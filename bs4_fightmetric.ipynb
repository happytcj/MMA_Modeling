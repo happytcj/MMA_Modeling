{
 "cells": [
  {
   "cell_type": "code",
   "execution_count": 1,
   "metadata": {
    "collapsed": true,
    "deletable": true,
    "editable": true
   },
   "outputs": [],
   "source": [
    "from bs4 import BeautifulSoup\n",
    "import csv\n",
    "import numpy as np\n",
    "import pandas as pd\n",
    "import scraperwiki\n",
    "from string import ascii_lowercase\n",
    "import urllib2\n",
    "import urllib\n",
    "import time"
   ]
  },
  {
   "cell_type": "code",
   "execution_count": 37,
   "metadata": {
    "collapsed": false,
    "deletable": true,
    "editable": true
   },
   "outputs": [],
   "source": [
    "url = 'http://www.fightmetric.com/statistics/fighters'\n",
    "html = scraperwiki.scrape(url)\n",
    "soup = BeautifulSoup(html, 'lxml')"
   ]
  },
  {
   "cell_type": "code",
   "execution_count": 38,
   "metadata": {
    "collapsed": false,
    "deletable": true,
    "editable": true
   },
   "outputs": [],
   "source": [
    "table_fighter = soup.find_all('tbody')[0]\n",
    "rows_fighter = table_fighter.find_all('tr')[1:]"
   ]
  },
  {
   "cell_type": "code",
   "execution_count": 39,
   "metadata": {
    "collapsed": false,
    "deletable": true,
    "editable": true
   },
   "outputs": [],
   "source": [
    "def get_career_stats(url):\n",
    "    ret = []\n",
    "    html = scraperwiki.scrape(url)\n",
    "    soup = BeautifulSoup(html, 'lxml')\n",
    "    div_stats = soup.find_all('div', {'class': 'b-list__info-box-left clearfix'})[0]\n",
    "    list_items_stats = div_stats.find_all('li', {'class': 'b-list__box-list-item b-list__box-list-item_type_block'})\n",
    "    for i in list_items_stats:\n",
    "        txt = i.text.strip()\n",
    "        txt = ' '.join(txt.split()).split(': ')[-1]\n",
    "        if len(txt) > 0:\n",
    "#             print (txt)\n",
    "            ret.append(txt)\n",
    "    return ret"
   ]
  },
  {
   "cell_type": "code",
   "execution_count": 40,
   "metadata": {
    "collapsed": false,
    "deletable": true,
    "editable": true
   },
   "outputs": [
    {
     "data": {
      "text/plain": [
       "[u'1.35', u'30%', u'3.55', u'38%', u'1.07', u'33%', u'66%', u'0.0']"
      ]
     },
     "execution_count": 40,
     "metadata": {},
     "output_type": "execute_result"
    }
   ],
   "source": [
    "test_url = 'http://www.fightmetric.com/fighter-details/b361180739bed4b0'\n",
    "get_career_stats(test_url)"
   ]
  },
  {
   "cell_type": "code",
   "execution_count": 41,
   "metadata": {
    "collapsed": false,
    "deletable": true,
    "editable": true
   },
   "outputs": [],
   "source": [
    "#loop through a single fighter row and capture all the information\n",
    "def parse_row(row):\n",
    "    ret = []\n",
    "    career_stats = []\n",
    "    \n",
    "    cols_fighter = row.find_all('td')\n",
    "    for idx, col in enumerate(cols_fighter):\n",
    "        links = col.find_all('a')\n",
    "        num_links = len(links)\n",
    "        if num_links == 1:\n",
    "            link = links[0]\n",
    "            try:\n",
    "                ret.append(link.contents[0])\n",
    "                if idx == 0:\n",
    "                    career_stats = get_career_stats(link['href'])\n",
    "            except IndexError as e:\n",
    "                ret.append('n/a')\n",
    "        elif num_links > 1:\n",
    "            raise Exception('invalid link parsing')\n",
    "        else:\n",
    "    #         print repr(col.contents[0])\n",
    "            txt = col.contents[0].strip()\n",
    "            if txt != '':\n",
    "                if '-' in txt:\n",
    "                    ret.append('n/a')\n",
    "                else:\n",
    "                    ret.append(col.contents[0].strip())\n",
    "            else:\n",
    "                ret.append('n/a')\n",
    "    ret = ret + career_stats\n",
    "#     print ret\n",
    "    return ret"
   ]
  },
  {
   "cell_type": "code",
   "execution_count": null,
   "metadata": {
    "collapsed": false,
    "deletable": true,
    "editable": true
   },
   "outputs": [],
   "source": [
    "header = ['first', 'last', 'nickname', 'height', 'weight', 'reach', \n",
    "          'stance', 'w', 'l', 'd', 'belt', 'SLpM', 'Str. Acc.', 'SApM',\n",
    "         'Str. Def', 'TD Avg', 'TD Acc.', 'TD Def.', 'Sub. Avg.']"
   ]
  },
  {
   "cell_type": "code",
   "execution_count": null,
   "metadata": {
    "collapsed": false,
    "deletable": true,
    "editable": true,
    "scrolled": true
   },
   "outputs": [
    {
     "name": "stdout",
     "output_type": "stream",
     "text": [
      "there was an issue with this url: http://www.fightmetric.com/statistics/fighters?char=p&page=all\n",
      "there was an issue with this url: http://www.fightmetric.com/statistics/fighters?char=p&page=all\n"
     ]
    }
   ],
   "source": [
    "res = []\n",
    "for c in ascii_lowercase[15:16]:\n",
    "    url = 'http://www.fightmetric.com/statistics/fighters?char=%c&page=all' %c\n",
    "    html = scraperwiki.scrape(url)\n",
    "    soup = BeautifulSoup(html, 'lxml')\n",
    "    table_fighter = soup.find_all('tbody')[0]\n",
    "    rows_fighter = table_fighter.find_all('tr')[1:]\n",
    "    for row in rows_fighter:\n",
    "        try:\n",
    "            res.append(parse_row(row))\n",
    "        except:\n",
    "            print 'there was an issue with this url: %s' %url"
   ]
  },
  {
   "cell_type": "code",
   "execution_count": null,
   "metadata": {
    "collapsed": false,
    "deletable": true,
    "editable": true
   },
   "outputs": [],
   "source": [
    "df = pd.DataFrame(res, columns=header)\n",
    "df.to_csv('tmp_data.csv', index=False)"
   ]
  },
  {
   "cell_type": "code",
   "execution_count": 2,
   "metadata": {
    "collapsed": true,
    "deletable": true,
    "editable": true
   },
   "outputs": [],
   "source": [
    "#pull all of Bisping's fights\n",
    "url = 'http://www.fightmetric.com/fighter-details/2b93ebd9f5417ad2'\n",
    "html = scraperwiki.scrape(url)\n",
    "soup = BeautifulSoup(html, 'lxml')"
   ]
  },
  {
   "cell_type": "code",
   "execution_count": 17,
   "metadata": {
    "collapsed": false,
    "deletable": true,
    "editable": true
   },
   "outputs": [],
   "source": [
    "table_fighter = soup.find_all('tbody')[0]\n",
    "rows_fighter = table_fighter.find_all('a', {'class': 'b-link b-link_style_black'})\n",
    "rows_fighter = [x for x in rows_fighter if 'fighter' in x['href'] and\n",
    "                'Bisping' not in x.text.strip()]\n",
    "\n",
    "rows_results = table_fighter.find_all('i', {'class': 'b-flag__text'})\n",
    "\n",
    "res = [['name', 'result']]\n",
    "for idx, row in enumerate(rows_fighter):\n",
    "    fighter = rows_fighter[idx].text.strip()\n",
    "    result = rows_results[idx].text.strip()\n",
    "    res.append([fighter, result])"
   ]
  },
  {
   "cell_type": "code",
   "execution_count": 19,
   "metadata": {
    "collapsed": false,
    "deletable": true,
    "editable": true
   },
   "outputs": [],
   "source": [
    "res_np = np.asarray(res)\n",
    "np.savetxt('bisping_results.csv', res_np, delimiter=',', fmt='%s')"
   ]
  },
  {
   "cell_type": "code",
   "execution_count": null,
   "metadata": {
    "collapsed": true,
    "deletable": true,
    "editable": true
   },
   "outputs": [],
   "source": []
  },
  {
   "cell_type": "code",
   "execution_count": null,
   "metadata": {
    "collapsed": true
   },
   "outputs": [],
   "source": []
  },
  {
   "cell_type": "code",
   "execution_count": null,
   "metadata": {
    "collapsed": true
   },
   "outputs": [],
   "source": []
  },
  {
   "cell_type": "code",
   "execution_count": null,
   "metadata": {
    "collapsed": true
   },
   "outputs": [],
   "source": []
  },
  {
   "cell_type": "code",
   "execution_count": null,
   "metadata": {
    "collapsed": true
   },
   "outputs": [],
   "source": []
  },
  {
   "cell_type": "code",
   "execution_count": null,
   "metadata": {
    "collapsed": true
   },
   "outputs": [],
   "source": []
  },
  {
   "cell_type": "code",
   "execution_count": null,
   "metadata": {
    "collapsed": true
   },
   "outputs": [],
   "source": []
  },
  {
   "cell_type": "code",
   "execution_count": null,
   "metadata": {
    "collapsed": true
   },
   "outputs": [],
   "source": []
  },
  {
   "cell_type": "code",
   "execution_count": null,
   "metadata": {
    "collapsed": true
   },
   "outputs": [],
   "source": []
  },
  {
   "cell_type": "code",
   "execution_count": null,
   "metadata": {
    "collapsed": true
   },
   "outputs": [],
   "source": []
  },
  {
   "cell_type": "code",
   "execution_count": null,
   "metadata": {
    "collapsed": true,
    "deletable": true,
    "editable": true
   },
   "outputs": [],
   "source": []
  },
  {
   "cell_type": "code",
   "execution_count": null,
   "metadata": {
    "collapsed": true,
    "deletable": true,
    "editable": true
   },
   "outputs": [],
   "source": []
  }
 ],
 "metadata": {
  "kernelspec": {
   "display_name": "Python 2",
   "language": "python",
   "name": "python2"
  },
  "language_info": {
   "codemirror_mode": {
    "name": "ipython",
    "version": 2
   },
   "file_extension": ".py",
   "mimetype": "text/x-python",
   "name": "python",
   "nbconvert_exporter": "python",
   "pygments_lexer": "ipython2",
   "version": "2.7.12"
  }
 },
 "nbformat": 4,
 "nbformat_minor": 0
}
