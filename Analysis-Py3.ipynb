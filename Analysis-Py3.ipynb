{
 "cells": [
  {
   "cell_type": "markdown",
   "metadata": {},
   "source": [
    "# Data Mining"
   ]
  },
  {
   "cell_type": "code",
   "execution_count": 32,
   "metadata": {},
   "outputs": [
    {
     "data": {
      "application/javascript": [
       "IPython.notebook.set_autosave_interval(300000)"
      ]
     },
     "metadata": {},
     "output_type": "display_data"
    },
    {
     "name": "stdout",
     "output_type": "stream",
     "text": [
      "Autosaving every 300 seconds\n",
      "The autoreload extension is already loaded. To reload it, use:\n",
      "  %reload_ext autoreload\n"
     ]
    }
   ],
   "source": [
    "from datetime import datetime\n",
    "import matplotlib.pyplot as plt\n",
    "import seaborn as sns\n",
    "import numpy as np \n",
    "import pandas as pd\n",
    "import pickle\n",
    "from scipy import stats\n",
    "%matplotlib inline\n",
    "%autosave 300\n",
    "%load_ext autoreload\n",
    "%autoreload 2\n",
    "from sklearn.preprocessing import scale, Normalizer, normalize, scale, MinMaxScaler\n",
    "from sklearn.dummy import DummyClassifier\n",
    "from sklearn import svm\n",
    "from sklearn.neighbors import KNeighborsClassifier\n",
    "from pandas.tools.plotting import scatter_matrix\n",
    "from sklearn.naive_bayes import GaussianNB\n",
    "from sklearn.naive_bayes import BernoulliNB\n",
    "from sklearn.feature_selection import chi2\n",
    "from pandas.tools.plotting import scatter_matrix\n",
    "from sklearn.ensemble import RandomForestClassifier\n",
    "from sklearn.ensemble import AdaBoostClassifier\n",
    "from sklearn.feature_selection import VarianceThreshold\n",
    "from sklearn import linear_model\n",
    "from IPython.display import display, HTML\n",
    "\n",
    "plt.rcParams['figure.figsize'] = (16, 8)\n",
    "plt.rcParams['font.size'] = 16\n",
    "plt.rcParams['text.usetex'] = False\n",
    "plt.rcParams['axes.labelsize'] = plt.rcParams['font.size']\n",
    "plt.rcParams['axes.titlesize'] = 1.5*plt.rcParams['font.size']\n",
    "plt.rcParams['legend.fontsize'] = 16\n",
    "plt.rcParams[\"figure.facecolor\"] = 'white'\n",
    "\n",
    "import matplotlib\n",
    "params = {'axes.labelsize': 18,'axes.titlesize':20, 'legend.fontsize': 20, 'xtick.labelsize': 16, 'ytick.labelsize': 16}\n",
    "matplotlib.rcParams.update(params)\n",
    "np.set_printoptions(precision=4)\n",
    "\n",
    "from sklearn.model_selection import KFold\n",
    "num_splits = 5.0\n",
    "kf = KFold(n_splits=int(num_splits))\n",
    "\n",
    "raw_data = pd.read_csv('data/fighter_data.csv')"
   ]
  },
  {
   "cell_type": "markdown",
   "metadata": {},
   "source": [
    "# Preprocessing"
   ]
  },
  {
   "cell_type": "code",
   "execution_count": 2,
   "metadata": {},
   "outputs": [
    {
     "name": "stdout",
     "output_type": "stream",
     "text": [
      "(2455, 19)\n",
      "(2071, 19)\n"
     ]
    }
   ],
   "source": [
    "df_5w = raw_data[((raw_data['w'].astype(int)+raw_data['l'].astype(float)+raw_data['d'].astype(float)) >= 5)]\n",
    "df_5w.reset_index(drop=True, inplace=True)\n",
    "print(df_5w.shape)\n",
    "significant_df = df_5w[(df_5w['SLpM']\n",
    "           + df_5w['Str. Acc.'].apply(lambda x: x.strip('%')).astype(float)\n",
    "           + df_5w['SApM']\n",
    "           + df_5w['Str. Def'].apply(lambda x: x.strip('%')).astype(float)\n",
    "           + df_5w['TD Avg']\n",
    "           + df_5w['TD Acc.'].apply(lambda x: x.strip('%')).astype(float)\n",
    "           + df_5w['TD Def.'].apply(lambda x: x.strip('%')).astype(float)\n",
    "           + df_5w['Sub. Avg.']) > 0\n",
    "          ]\n",
    "significant_df.reset_index(drop=True, inplace=True)\n",
    "#Get rid of rows from fightmatrix that are all zeros\n",
    "print (significant_df.shape)"
   ]
  },
  {
   "cell_type": "code",
   "execution_count": 3,
   "metadata": {},
   "outputs": [
    {
     "name": "stdout",
     "output_type": "stream",
     "text": [
      "(2071, 8)\n"
     ]
    }
   ],
   "source": [
    "def extract_stats_df(input_df):\n",
    "    df = input_df.filter(['SLpM','Str. Acc.','SApM', 'Str. Def', 'TD Avg', \n",
    "                                     'TD Acc.', 'TD Def.', 'Sub. Avg.'], \n",
    "                                     axis=1)\n",
    "    df['Str. Acc.'] = df['Str. Acc.'].apply(lambda x: x.strip('%')).astype(float)\n",
    "    df['Str. Def'] = df['Str. Def'].apply(lambda x: x.strip('%')).astype(float)\n",
    "    df['TD Acc.'] = df['TD Acc.'].apply(lambda x: x.strip('%')).astype(float)\n",
    "    df['TD Def.'] = df['TD Def.'].apply(lambda x: x.strip('%')).astype(float)\n",
    "    return df\n",
    "stats_df = extract_stats_df(significant_df)\n",
    "print(stats_df.shape)\n",
    "stats_df.reset_index(drop=True, inplace=True)"
   ]
  },
  {
   "cell_type": "code",
   "execution_count": 4,
   "metadata": {},
   "outputs": [],
   "source": [
    "xticks = ['SLpM','Str. Acc.','SApM', 'Str. Def', 'TD Avg', 'TD Acc.', 'TD Def.', 'Sub. Avg.']"
   ]
  },
  {
   "cell_type": "code",
   "execution_count": 5,
   "metadata": {},
   "outputs": [
    {
     "name": "stdout",
     "output_type": "stream",
     "text": [
      "(153, 19)\n"
     ]
    }
   ],
   "source": [
    "#load the current top15 ranked fighters in all divisions\n",
    "top15_all_class = np.genfromtxt('./data/top15.csv', delimiter=',', dtype='str')\n",
    "significant_df = df_5w[(df_5w['SLpM']\n",
    "           + df_5w['Str. Acc.'].apply(lambda x: x.strip('%')).astype(float)\n",
    "           + df_5w['SApM']\n",
    "           + df_5w['Str. Def'].apply(lambda x: x.strip('%')).astype(float)\n",
    "           + df_5w['TD Avg']\n",
    "           + df_5w['TD Acc.'].apply(lambda x: x.strip('%')).astype(float)\n",
    "           + df_5w['TD Def.'].apply(lambda x: x.strip('%')).astype(float)\n",
    "           + df_5w['Sub. Avg.']) > 0\n",
    "          ]\n",
    "significant_df.reset_index(drop=True, inplace=True)\n",
    "top15_df = significant_df[(significant_df['first'] + ' ' + significant_df['last']).isin(top15_all_class)]\n",
    "print(top15_df.shape)"
   ]
  },
  {
   "cell_type": "code",
   "execution_count": 6,
   "metadata": {},
   "outputs": [],
   "source": [
    "top15_names_df = (top15_df['first'] + ' ' + top15_df['last']).values\n",
    "reach_op = lambda x: float(x.replace('\"', '').strip())\n",
    "# weight_op = lambda x: float(x.split()[0])\n",
    "stracc_op = lambda x: float(x[:-1])\n",
    "def height_op(in_str):\n",
    "    in_str = str(in_str)\n",
    "    if type(in_str) is int:\n",
    "        return in_str\n",
    "    feet, inches = in_str.split(' ')\n",
    "    feet_num = int(feet[:-1])\n",
    "    inches_num = int(inches[:-1])\n",
    "    return feet_num * 12 + inches_num\n",
    "def result_op(in_str):\n",
    "    if 'win' in in_str:\n",
    "        return 1\n",
    "    elif 'loss' in in_str:\n",
    "        return 0\n",
    "    elif 'n/a' in in_str:\n",
    "        return 0\n",
    "def cleanup_df(indf):\n",
    "    ret = pd.DataFrame()\n",
    "    indf.dropna(subset=['height', 'reach'], inplace=True)\n",
    "    ret['reach'] = indf['reach'].apply(reach_op)\n",
    "#     ret['weight'] = indf['weight'].apply(weight_op)\n",
    "    ret['height'] = indf['height'].apply(height_op)\n",
    "    ret['w/l'] = indf['w']/(indf['w']+indf['l'])\n",
    "    ret['SLpM'] = indf['SLpM']\n",
    "    ret['Str. Acc.'] = indf['Str. Acc.'].apply(stracc_op)\n",
    "    ret['SApM'] = indf['SApM'].apply(float)\n",
    "    ret['Str. Def'] = indf['Str. Def'].apply(stracc_op)\n",
    "    ret['TD Avg'] = indf['TD Avg'].apply(float)\n",
    "    ret['TD Acc.'] = indf['TD Acc.'].apply(stracc_op)\n",
    "    ret['TD Def.'] = indf['TD Def.'].apply(stracc_op)\n",
    "    ret['Sub. Avg.'] = indf['Sub. Avg.'].apply(float)\n",
    "    ret['result'] = indf['result'].apply(result_op)\n",
    "    return ret"
   ]
  },
  {
   "cell_type": "code",
   "execution_count": 7,
   "metadata": {},
   "outputs": [],
   "source": [
    "#create new vector consisting of: height, weight, reach, w/l ratio, and statistics\n",
    "def generate_delta(primary, contender, mode='absolute'):\n",
    "    #first cleanup input dataframes\n",
    "    primary_clean = cleanup_df(primary)\n",
    "    contender_clean = cleanup_df(contender)\n",
    "    if mode == 'absolute':\n",
    "        delta = pd.DataFrame(data = (contender_clean.values-primary_clean.values),\n",
    "                             columns=contender_clean.columns)\n",
    "    elif mode == 'percentage':\n",
    "        delta = pd.DataFrame(100*(contender_clean.values-primary_clean.values)/primary_clean.values,\n",
    "                             columns=contender_clean.columns)\n",
    "    return delta"
   ]
  },
  {
   "cell_type": "markdown",
   "metadata": {},
   "source": [
    "# Top15 Fighters"
   ]
  },
  {
   "cell_type": "code",
   "execution_count": 56,
   "metadata": {},
   "outputs": [
    {
     "name": "stdout",
     "output_type": "stream",
     "text": [
      "(2399, 7)\n"
     ]
    }
   ],
   "source": [
    "df_top15 = pd.read_csv('./data/top15_results_2020-05-31.csv', delimiter=',', header=None)\n",
    "df_top15.columns = ['red', 'blue', 'result']\n",
    "df_top15['red_first'] = df_top15['red'].str.split(' ', expand=True)[0]\n",
    "def get_last_name(x):\n",
    "    return x.split(' ')[-1]\n",
    "df_top15['red_last'] = df_top15['red'].apply(get_last_name)\n",
    "df_top15['blue_first'] = df_top15['blue'].str.split(' ', expand=True)[0]\n",
    "df_top15['blue_last'] = df_top15['blue'].apply(get_last_name)\n",
    "top15_list = df_top15['red'].unique()\n",
    "print(df_top15.shape)"
   ]
  },
  {
   "cell_type": "code",
   "execution_count": 57,
   "metadata": {},
   "outputs": [
    {
     "name": "stderr",
     "output_type": "stream",
     "text": [
      "/usr/local/lib/python3.6/site-packages/ipykernel_launcher.py:12: SettingWithCopyWarning: \n",
      "A value is trying to be set on a copy of a slice from a DataFrame.\n",
      "Try using .loc[row_indexer,col_indexer] = value instead\n",
      "\n",
      "See the caveats in the documentation: http://pandas.pydata.org/pandas-docs/stable/indexing.html#indexing-view-versus-copy\n",
      "  if sys.path[0] == '':\n",
      "/usr/local/lib/python3.6/site-packages/ipykernel_launcher.py:22: SettingWithCopyWarning: \n",
      "A value is trying to be set on a copy of a slice from a DataFrame\n",
      "\n",
      "See the caveats in the documentation: http://pandas.pydata.org/pandas-docs/stable/indexing.html#indexing-view-versus-copy\n"
     ]
    },
    {
     "name": "stdout",
     "output_type": "stream",
     "text": [
      "Israel Adesanya\n",
      "Justin Gaethje\n",
      "Deiveson Figueiredo\n",
      "Brandon Moreno\n",
      "Alexandre Pantoja\n",
      "Mark Rosa\n",
      "Marlon Moraes\n",
      "Cory Sandhagen\n",
      "Cody Stamann\n",
      "Song Yadong\n",
      "Zabit Magomedsharipov\n",
      "Chan Jung\n",
      "Calvin Kattar\n",
      "Dan Ige\n",
      "Sodiq Yusuff\n",
      "Rafael Anjos\n",
      "Geoff Neal\n",
      "Paulo Costa\n",
      "Edmen Shahbazyan\n",
      "Ian Heinisch\n",
      "Antonio Junior\n",
      "Dominick Reyes\n",
      "Volkan Oezdemir\n",
      "Aleksandar Rakic\n",
      "Johnny Walker\n",
      "Ryan Spann\n",
      "Magomed Ankalaev\n",
      "Junior Santos\n",
      "Jairzinho Rozenstruik\n",
      "Blagoy Ivanov\n",
      "Augusto Sakai\n",
      "Weili Zhang\n",
      "Germaine Randamie\n",
      "Aspen Ladd\n",
      "Marina Rodriguez\n",
      "Cynthia Calvillo\n",
      "Yan Xiaonan\n",
      "Jennifer Maia\n",
      "Roxanne Modafferi\n",
      "Viviane Araujo\n",
      "Andrea Lee\n",
      "Ketlen Vieira\n",
      "Yana Kunitskaya\n",
      "Macy Chiasson\n",
      "Sijara Eubanks\n"
     ]
    }
   ],
   "source": [
    "'''\n",
    "To generate deltas, loop through the top fighters one by one and concatenate deltas results\n",
    "'''\n",
    "frames = []\n",
    "for fighter in top15_list:\n",
    "    try:\n",
    "        df_fighter = df_top15[df_top15['red'] == fighter]\n",
    "        first = df_fighter['red_first'].values[0]\n",
    "        last = df_fighter['red_last'].values[0]\n",
    "        fighter_stats = df_5w[(df_5w['first'] == first) & (df_5w['last'] == last)]\n",
    "#         print(fighter_stats.isnull().values.any())\n",
    "        fighter_stats['result'] = 'n/a'\n",
    "        opponent_stats = pd.merge(df_5w, df_fighter, left_on=['first', 'last'], right_on=['blue_first', 'blue_last'], how='inner')\n",
    "        fighter_deltas = generate_delta(fighter_stats, opponent_stats)\n",
    "        frames.append(fighter_deltas)\n",
    "    except Exception as e:\n",
    "#         print e\n",
    "        print (first, last)\n",
    "        pass\n",
    "#         display(fighter_stats)\n",
    "#         display(opponent_stats)\n",
    "# fighter_deltas.head()"
   ]
  },
  {
   "cell_type": "code",
   "execution_count": 58,
   "metadata": {},
   "outputs": [
    {
     "name": "stdout",
     "output_type": "stream",
     "text": [
      "(1659, 12)\n",
      "(1635, 12)\n"
     ]
    }
   ],
   "source": [
    "df_deltas_top15 = pd.concat(frames)\n",
    "print(df_deltas_top15.shape)\n",
    "df_deltas_top15.replace([np.inf, -np.inf], np.nan, inplace=True)\n",
    "# Need to figure out why there are NAN results\n",
    "df_deltas_top15.dropna(inplace=True)\n",
    "print(df_deltas_top15.shape)"
   ]
  },
  {
   "cell_type": "code",
   "execution_count": 59,
   "metadata": {},
   "outputs": [
    {
     "name": "stdout",
     "output_type": "stream",
     "text": [
      "(1635, 11)\n",
      "(1635,)\n"
     ]
    }
   ],
   "source": [
    "train_predictors = df_deltas_top15.iloc[:,:-1]\n",
    "train_response = df_deltas_top15['result']\n",
    "X = train_predictors.values\n",
    "y = train_response.values\n",
    "print (X.shape)\n",
    "print (y.shape)"
   ]
  },
  {
   "cell_type": "code",
   "execution_count": 60,
   "metadata": {},
   "outputs": [
    {
     "name": "stdout",
     "output_type": "stream",
     "text": [
      "avg misclassification: 29.05\n"
     ]
    }
   ],
   "source": [
    "percent_misclassified = 0\n",
    "for train_index, test_index in kf.split(X):\n",
    "    x_train, x_test = X[train_index], X[test_index]\n",
    "    y_train, y_test = y[train_index], y[test_index]\n",
    "    clf = RandomForestClassifier(n_jobs=-1, max_features=5, n_estimators=500)\n",
    "    y_pred = clf.fit(x_train, y_train).predict(x_test)\n",
    "    percent_misclassified+=100*(y_test != y_pred).sum()/float(x_test.shape[0])\n",
    "#     print(\"mislabeled out of %d obs : %0.2f\"% (x_test.shape[0], 100*(y_test != y_pred).sum()/float(x_test.shape[0])))\n",
    "print(\"avg misclassification: %0.2f\"%float(percent_misclassified/num_splits))"
   ]
  },
  {
   "cell_type": "code",
   "execution_count": 61,
   "metadata": {},
   "outputs": [
    {
     "name": "stderr",
     "output_type": "stream",
     "text": [
      "/usr/local/lib/python3.6/site-packages/pandas/core/indexing.py:362: SettingWithCopyWarning: \n",
      "A value is trying to be set on a copy of a slice from a DataFrame.\n",
      "Try using .loc[row_indexer,col_indexer] = value instead\n",
      "\n",
      "See the caveats in the documentation: http://pandas.pydata.org/pandas-docs/stable/indexing.html#indexing-view-versus-copy\n",
      "  self.obj[key] = _infer_fill_value(value)\n",
      "/usr/local/lib/python3.6/site-packages/pandas/core/indexing.py:543: SettingWithCopyWarning: \n",
      "A value is trying to be set on a copy of a slice from a DataFrame.\n",
      "Try using .loc[row_indexer,col_indexer] = value instead\n",
      "\n",
      "See the caveats in the documentation: http://pandas.pydata.org/pandas-docs/stable/indexing.html#indexing-view-versus-copy\n",
      "  self.obj[item] = s\n",
      "/usr/local/lib/python3.6/site-packages/ipykernel_launcher.py:22: SettingWithCopyWarning: \n",
      "A value is trying to be set on a copy of a slice from a DataFrame\n",
      "\n",
      "See the caveats in the documentation: http://pandas.pydata.org/pandas-docs/stable/indexing.html#indexing-view-versus-copy\n"
     ]
    },
    {
     "data": {
      "text/plain": [
       "array([0.])"
      ]
     },
     "execution_count": 61,
     "metadata": {},
     "output_type": "execute_result"
    }
   ],
   "source": [
    "model = clf.fit(X, y)\n",
    "#try a prediction\n",
    "conor_stats = df_5w[(df_5w['first'] == 'Conor') & (df_5w['last'] == 'McGregor')]\n",
    "nate_stats = df_5w[(df_5w['first'] == 'Khabib') & (df_5w['last'] == 'Nurmagomedov')]\n",
    "conor_stats.loc[:,'result'] = 'n/a'\n",
    "nate_stats.loc[:,'result'] = 'n/a'\n",
    "try_delta = generate_delta(conor_stats, nate_stats).iloc[:,:-1].values\n",
    "model.predict(try_delta)"
   ]
  },
  {
   "cell_type": "code",
   "execution_count": 33,
   "metadata": {},
   "outputs": [],
   "source": [
    "df_deltas_top15.to_csv('top15_deltas_'+datetime.today().strftime('%Y-%m-%d')+'.csv', index=False)"
   ]
  },
  {
   "cell_type": "markdown",
   "metadata": {},
   "source": [
    "## Export the model with Pickle"
   ]
  },
  {
   "cell_type": "code",
   "execution_count": 15,
   "metadata": {},
   "outputs": [],
   "source": [
    "'''\n",
    "This was for AWS app upload\n",
    "'''\n",
    "# pickle.dump(model, open(\"random_forest_model.pkl\", \"wb\"))\n",
    "# pickle.dump(df_5w, open('df_5w.pkl', 'wb'))"
   ]
  },
  {
   "cell_type": "markdown",
   "metadata": {},
   "source": [
    "## Create normalized df for radar chart"
   ]
  },
  {
   "cell_type": "code",
   "execution_count": 16,
   "metadata": {},
   "outputs": [
    {
     "name": "stdout",
     "output_type": "stream",
     "text": [
      "(2455, 19)\n"
     ]
    },
    {
     "name": "stderr",
     "output_type": "stream",
     "text": [
      "/usr/local/lib/python3.6/site-packages/ipykernel_launcher.py:3: SettingWithCopyWarning: \n",
      "A value is trying to be set on a copy of a slice from a DataFrame\n",
      "\n",
      "See the caveats in the documentation: http://pandas.pydata.org/pandas-docs/stable/indexing.html#indexing-view-versus-copy\n",
      "  This is separate from the ipykernel package so we can avoid doing imports until\n"
     ]
    }
   ],
   "source": [
    "def cleanup_df_wnames(indf):\n",
    "    ret = pd.DataFrame()\n",
    "    indf.dropna(subset=['height', 'reach'], inplace=True)\n",
    "    ret['first'] = indf['first']\n",
    "    ret['last'] = indf['last']\n",
    "#     ret['reach'] = indf['reach'].apply(reach_op)\n",
    "#     ret['weight'] = indf['weight'].apply(weight_op)\n",
    "#     ret['height'] = indf['height'].apply(height_op)\n",
    "    ret['w/l'] = indf['w']/(indf['w']+indf['l'])\n",
    "    ret['SLpM'] = indf['SLpM']\n",
    "    ret['Str. Acc.'] = indf['Str. Acc.'].apply(stracc_op)\n",
    "    ret['SApM'] = indf['SApM'].apply(float)\n",
    "    ret['Str. Def'] = indf['Str. Def'].apply(stracc_op)\n",
    "    ret['TD Avg'] = indf['TD Avg'].apply(float)\n",
    "    ret['TD Acc.'] = indf['TD Acc.'].apply(stracc_op)\n",
    "    ret['TD Def.'] = indf['TD Def.'].apply(stracc_op)\n",
    "    ret['Sub. Avg.'] = indf['Sub. Avg.'].apply(float)\n",
    "    return ret\n",
    "print(df_5w.shape)\n",
    "df_abs = cleanup_df_wnames(df_5w)\n",
    "df_abs.reset_index(drop=True, inplace=True)"
   ]
  },
  {
   "cell_type": "code",
   "execution_count": 17,
   "metadata": {},
   "outputs": [
    {
     "name": "stdout",
     "output_type": "stream",
     "text": [
      "(1183, 11)\n"
     ]
    }
   ],
   "source": [
    "cols_of_interest = ['w/l', 'SLpM', 'Str. Acc.', 'SApM', 'Str. Def', 'TD Avg', 'TD Acc.',\n",
    "            'TD Def.', 'Sub. Avg.']\n",
    "x = df_abs[cols_of_interest].values #returns a numpy array\n",
    "print(df_abs.shape)\n",
    "min_max_scaler = MinMaxScaler()\n",
    "x_scaled = min_max_scaler.fit_transform(x)\n",
    "df_norm = pd.DataFrame(x_scaled, columns=cols_of_interest)\n",
    "df_norm['first'] = df_abs['first']\n",
    "df_norm['last'] = df_abs['last']"
   ]
  },
  {
   "cell_type": "code",
   "execution_count": 18,
   "metadata": {},
   "outputs": [],
   "source": [
    "pickle.dump(df_norm, open(\"df_norm.pkl\", \"wb\"))"
   ]
  },
  {
   "cell_type": "markdown",
   "metadata": {},
   "source": [
    "## All bouts model"
   ]
  },
  {
   "cell_type": "code",
   "execution_count": 19,
   "metadata": {},
   "outputs": [
    {
     "data": {
      "text/html": [
       "<div>\n",
       "<style scoped>\n",
       "    .dataframe tbody tr th:only-of-type {\n",
       "        vertical-align: middle;\n",
       "    }\n",
       "\n",
       "    .dataframe tbody tr th {\n",
       "        vertical-align: top;\n",
       "    }\n",
       "\n",
       "    .dataframe thead th {\n",
       "        text-align: right;\n",
       "    }\n",
       "</style>\n",
       "<table border=\"1\" class=\"dataframe\">\n",
       "  <thead>\n",
       "    <tr style=\"text-align: right;\">\n",
       "      <th></th>\n",
       "      <th>red</th>\n",
       "      <th>blue</th>\n",
       "      <th>result</th>\n",
       "      <th>red_first</th>\n",
       "      <th>red_last</th>\n",
       "      <th>blue_first</th>\n",
       "      <th>blue_last</th>\n",
       "    </tr>\n",
       "  </thead>\n",
       "  <tbody>\n",
       "    <tr>\n",
       "      <th>0</th>\n",
       "      <td>Tom Aaron</td>\n",
       "      <td>Matt Ricehouse</td>\n",
       "      <td>loss</td>\n",
       "      <td>Tom</td>\n",
       "      <td>Aaron</td>\n",
       "      <td>Matt</td>\n",
       "      <td>Ricehouse</td>\n",
       "    </tr>\n",
       "    <tr>\n",
       "      <th>1</th>\n",
       "      <td>Tom Aaron</td>\n",
       "      <td>Eric Steenberg</td>\n",
       "      <td>win</td>\n",
       "      <td>Tom</td>\n",
       "      <td>Aaron</td>\n",
       "      <td>Eric</td>\n",
       "      <td>Steenberg</td>\n",
       "    </tr>\n",
       "    <tr>\n",
       "      <th>2</th>\n",
       "      <td>Danny Abbadi</td>\n",
       "      <td>Jorge Gurgel</td>\n",
       "      <td>loss</td>\n",
       "      <td>Danny</td>\n",
       "      <td>Abbadi</td>\n",
       "      <td>Jorge</td>\n",
       "      <td>Gurgel</td>\n",
       "    </tr>\n",
       "    <tr>\n",
       "      <th>3</th>\n",
       "      <td>Danny Abbadi</td>\n",
       "      <td>Kalib Starnes</td>\n",
       "      <td>loss</td>\n",
       "      <td>Danny</td>\n",
       "      <td>Abbadi</td>\n",
       "      <td>Kalib</td>\n",
       "      <td>Starnes</td>\n",
       "    </tr>\n",
       "    <tr>\n",
       "      <th>4</th>\n",
       "      <td>David Abbott</td>\n",
       "      <td>Kevin Ferguson</td>\n",
       "      <td>loss</td>\n",
       "      <td>David</td>\n",
       "      <td>Abbott</td>\n",
       "      <td>Kevin</td>\n",
       "      <td>Ferguson</td>\n",
       "    </tr>\n",
       "  </tbody>\n",
       "</table>\n",
       "</div>"
      ],
      "text/plain": [
       "            red            blue result red_first red_last blue_first  \\\n",
       "0     Tom Aaron  Matt Ricehouse   loss       Tom    Aaron       Matt   \n",
       "1     Tom Aaron  Eric Steenberg    win       Tom    Aaron       Eric   \n",
       "2  Danny Abbadi    Jorge Gurgel   loss     Danny   Abbadi      Jorge   \n",
       "3  Danny Abbadi   Kalib Starnes   loss     Danny   Abbadi      Kalib   \n",
       "4  David Abbott  Kevin Ferguson   loss     David   Abbott      Kevin   \n",
       "\n",
       "   blue_last  \n",
       "0  Ricehouse  \n",
       "1  Steenberg  \n",
       "2     Gurgel  \n",
       "3    Starnes  \n",
       "4   Ferguson  "
      ]
     },
     "execution_count": 19,
     "metadata": {},
     "output_type": "execute_result"
    }
   ],
   "source": [
    "df_full = pd.read_csv('./data/full_results.csv', delimiter=',', header=None)\n",
    "df_full.columns = ['red', 'blue', 'result']\n",
    "df_full['red_first'] = df_full['red'].str.split(' ', expand=True)[0]\n",
    "def get_last_name(x):\n",
    "    return x.split(' ')[-1]\n",
    "df_full['red_last'] = df_full['red'].apply(get_last_name)\n",
    "df_full['blue_first'] = df_full['blue'].str.split(' ', expand=True)[0]\n",
    "df_full['blue_last'] = df_full['blue'].apply(get_last_name)\n",
    "full_list = df_full['red'].unique()\n",
    "df_full.head()"
   ]
  },
  {
   "cell_type": "code",
   "execution_count": 20,
   "metadata": {
    "scrolled": true
   },
   "outputs": [
    {
     "name": "stderr",
     "output_type": "stream",
     "text": [
      "/usr/local/lib/python3.6/site-packages/ipykernel_launcher.py:22: SettingWithCopyWarning: \n",
      "A value is trying to be set on a copy of a slice from a DataFrame\n",
      "\n",
      "See the caveats in the documentation: http://pandas.pydata.org/pandas-docs/stable/indexing.html#indexing-view-versus-copy\n"
     ]
    },
    {
     "name": "stdout",
     "output_type": "stream",
     "text": [
      "Danny Abbadi\n",
      "David Abbott\n"
     ]
    },
    {
     "name": "stderr",
     "output_type": "stream",
     "text": [
      "/usr/local/lib/python3.6/site-packages/ipykernel_launcher.py:12: SettingWithCopyWarning: \n",
      "A value is trying to be set on a copy of a slice from a DataFrame.\n",
      "Try using .loc[row_indexer,col_indexer] = value instead\n",
      "\n",
      "See the caveats in the documentation: http://pandas.pydata.org/pandas-docs/stable/indexing.html#indexing-view-versus-copy\n",
      "  if sys.path[0] == '':\n"
     ]
    },
    {
     "name": "stdout",
     "output_type": "stream",
     "text": [
      "Daniel Acacio\n",
      "Mike Aina\n",
      "Hitomi Akano\n",
      "Razak Al-Hassan\n",
      "Gilbert Aldana\n",
      "Kenneth Alexander\n",
      "Marcio Junior\n",
      "Olaf Alfonso\n",
      "Amilcar Alves\n",
      "Andre Amado\n",
      "Karl Amoussou\n",
      "Reese Andy\n",
      "Shinya Aoki\n",
      "Erik Apple\n",
      "Ricardo Arona\n",
      "Pat Audinwood\n",
      "Luiz Azeredo\n",
      "Bryan Baker\n",
      "Tae Bang\n",
      "David Baron\n",
      "Lyle Beerbohm\n",
      "Charles Bennett\n",
      "Steve Berger\n",
      "Bret Bergmark\n",
      "Keith Berry\n",
      "Edson Berto\n",
      "Jason Black\n",
      "Jesse Bongfeldt\n",
      "Paul Bradley\n",
      "Ebenezer Braga\n",
      "Joe Brammer\n",
      "Chris Brennan\n",
      "Aaron Brink\n",
      "Todd Brown\n",
      "Steve Bruno\n",
      "Courtney Buck\n",
      "Murilo Bustamante\n",
      "Gina Carano\n",
      "Phil Cardella\n",
      "Antonio Junior\n",
      "Shonie Carter\n",
      "Bendy Casimir\n",
      "Luke Caudillo\n",
      "Ansar Chalangov\n",
      "Joachim Christensen\n",
      "Heather Clark\n",
      "Wayne Cole\n",
      "Devin Cole\n",
      "Kit Cope\n",
      "Muhsin Corbbrey\n",
      "Wesley Correira\n",
      "Jeff Cox\n",
      "Dan Cramer\n",
      "Alberto Crane\n",
      "Richard Crunkilton\n",
      "Marcio Cruz\n",
      "Philip Fries\n",
      "Chris Rocha\n",
      "Mike Torre\n",
      "Rodrigo Lima\n",
      "Edilberto Oliveira\n",
      "Jorge Oliveira\n",
      "Germaine Randamie\n",
      "Shane Rosario\n",
      "Jon Reyes\n",
      "Thomas Denny\n",
      "Cory Devela\n",
      "Edwin DeWees\n",
      "Alessio Chirico\n",
      "Rafael Dias\n",
      "Kyle Dietz\n",
      "Rafael Anjos\n",
      "Junior Santos\n",
      "Antonio Santos\n",
      "Robert Drysdale\n",
      "Joe Duarte\n",
      "Justin Eilers\n",
      "Jon Einemo\n",
      "Aleksander Emelianenko\n",
      "Tom Erikson\n",
      "Doug Evans\n",
      "Dan Evensen\n",
      "Tonya Evinger\n",
      "Edward Faaloloto\n",
      "Brodie Farber\n",
      "Kevin Ferguson\n",
      "Bibiano Fernandes\n",
      "Anthony Figueroa\n",
      "Paulo Filho\n",
      "Mirko Cop\n",
      "Jan Finney\n",
      "Luiz Firmino\n",
      "Xavier Foupa-Pokam\n",
      "Ian Freeman\n",
      "Don Frye\n",
      "Tony Fryklund\n",
      "Kazuyuki Fujita\n",
      "Travis Galbraith\n",
      "Andre Galvao\n",
      "Marcos Galvao\n",
      "Joey Gambino\n",
      "Brian Gassaway\n",
      "Tiki Ghosn\n",
      "Jason Gilliam\n",
      "Clint Godfrey\n",
      "Allan Goes\n",
      "Gary Goodridge\n",
      "Chase Gormley\n",
      "Damian Grabowski\n",
      "Royce Gracie\n",
      "Renzo Gracie\n",
      "Andre Gusmao\n",
      "John Halverson\n",
      "Joachim Hansen\n",
      "Justin Haskins\n",
      "Josh Haynes\n",
      "Henrique Silva\n",
      "Conor Heun\n",
      "Branden Hinkle\n",
      "Kwan Kwak\n",
      "Sam Hoger\n",
      "Mark Holst\n",
      "Matt Horwich\n",
      "John Hosman\n",
      "Abongo Humphrey\n",
      "Joe Hurley\n",
      "Fabiano Iha\n",
      "Seichi Ikemoto\n",
      "Yusuke Imamura\n",
      "Masakazu Imanari\n",
      "Brad Imes\n",
      "Enson Inoue\n",
      "Mitsuhiro Ishida\n",
      "Yoislandy Izquierdo\n",
      "Eugene Jackson\n",
      "Jeremy Jackson\n",
      "Maciej Jewtuszko\n",
      "Brian Johnston\n",
      "Carlton Jones\n",
      "Kevin Jordan\n",
      "Jeff Joslin\n",
      "Chan Jung\n",
      "Hiromitsu Kanehara\n",
      "Kyung Kang\n",
      "Tetsuji Kato\n",
      "CJ Keith\n",
      "Mark Kerr\n",
      "Sergei Kharitonov\n",
      "Dong Kim\n",
      "Tsuyoshi Kohsaka\n",
      "John Kolosci\n",
      "Yuki Kondo\n",
      "Dan Lauzon\n",
      "David Lee\n",
      "Kimo Leopoldo\n",
      "Justin Levens\n",
      "Scott Lighty\n",
      "Hyun Lim\n",
      "Lucio Linhares\n",
      "Jorge Lopez\n",
      "Ian Loveland\n",
      "Waylon Lowe\n",
      "Mike Lullo\n",
      "Adam Lynn\n",
      "Bill Mahood\n",
      "Melvin Manhoef\n",
      "Jose Maria\n",
      "Wagner Martins\n",
      "Daijiro Matsui\n",
      "Gan McGee\n",
      "Greg McIntyre\n",
      "Dave Menne\n",
      "Guy Mezger\n",
      "Kristof Midoux\n",
      "Pat Miletich\n",
      "Curtis Millender\n",
      "Micah Miller\n",
      "Adam Milstead\n",
      "Ikuhisa Minowa\n",
      "Kazuo Misaki\n",
      "Dokonjonosuke Mishima\n",
      "Eiji Mitsuoka\n",
      "Kazuyuki Miyata\n",
      "Tatsuya Mizuno\n",
      "Roxanne Modafferi\n",
      "Nate Moore\n",
      "Brandon Moreno\n",
      "Sammy Morgan\n",
      "Brad Morris\n",
      "Anthony Morrison\n",
      "Lee Murray\n",
      "Daisuke Nakamura\n",
      "Jutaro Nakao\n",
      "Yui Nam\n",
      "Fabio Nascimento\n",
      "Bobby Nash\n",
      "Pawel Nastula\n",
      "Dustin Neace\n",
      "Antonio Neto\n",
      "Carlos Newton\n",
      "Yosuke Nishijima\n",
      "TJ O'Brien\n",
      "Jorge Oliveira\n",
      "Alexander Otsuka\n",
      "Shungo Oyama\n",
      "Alexandre Pantoja\n",
      "Bryan Pardoe\n",
      "Michael Patt\n",
      "Julio Paulino\n",
      "Joe Pearson\n",
      "Rolando Perez\n",
      "Ross Pointon\n",
      "Chris Price\n",
      "Niko Price\n",
      "Benji Radach\n",
      "Jordan Radev\n",
      "Hector Ramirez\n",
      "Luis Ramos\n",
      "Kevin Randleman\n",
      "Gideon Ray\n",
      "Abdul Alhassan\n",
      "Chad Reiner\n",
      "Jason Reinhardt\n",
      "Will Ribeiro\n",
      "Matt Ricehouse\n",
      "Pedro Rizzo\n",
      "Buddy Roberts\n",
      "Colin Robinson\n",
      "Carlos Rocha\n",
      "Ricco Rodriguez\n",
      "Marcos Lima\n",
      "Jake Rosholt\n",
      "Murilo Rua\n",
      "Gabe Ruediger\n",
      "Anthony Ruiz\n",
      "Ovince Preux\n",
      "Kazushi Sakuraba\n",
      "Hayato Sakurai\n",
      "Ivan Salaverry\n",
      "Sean Salmon\n",
      "Diego Saraiva\n",
      "Harris Sarmiento\n",
      "Masaaki Satake\n",
      "Lumumba Sayers\n",
      "Fabiano Scherner\n",
      "Samy Schiavo\n",
      "Semmy Schilt\n",
      "Alex Schoenauer\n",
      "Andrei Semenov\n",
      "Ivan Serati\n",
      "Dan Severn\n",
      "Frank Shamrock\n",
      "Katsuyori Shibata\n",
      "Akira Shoji\n",
      "Assuerio Silva\n",
      "Jay Silva\n",
      "Douglas Andrade\n",
      "Wes Sims\n",
      "Lodune Sincaid\n",
      "Maurice Smith\n",
      "Rameau Sokoudjou\n",
      "Bobby Southworth\n",
      "Chris Spang\n",
      "Pete Spratt\n",
      "Dion Staring\n",
      "Alex Stiebling\n",
      "Tyler Stinson\n",
      "Dan Stittgen\n",
      "Denis Stojnic\n",
      "Curtis Stout\n",
      "Dave Strasser\n",
      "Genki Sudo\n",
      "Amar Suloev\n",
      "Yoshiki Takahashi\n",
      "Daiju Takase\n",
      "Hiroyuki Takaya\n",
      "Kiyoshi Tamura\n",
      "Jesse Taylor\n",
      "James Huna\n",
      "Tra Telligman\n",
      "David Terrell\n",
      "James Terry\n",
      "Din Thomas\n",
      "Ryan Thomas\n",
      "Noah Thomas\n",
      "James Thompson\n",
      "Hideo Tokoro\n",
      "Anthony Torres\n",
      "Ronys Torres\n",
      "Bryan Travers\n",
      "Yasuhiro Urushitani\n",
      "Victor Valimaki\n",
      "Andrew Valladerez\n",
      "Mike Arsdale\n",
      "Matt Buren\n",
      "Matt Veach\n",
      "Joe Vedepo\n",
      "Joe Veres\n",
      "Renato Verissimo\n",
      "Ketlen Vieira\n",
      "Steve Vigneault\n",
      "Joey Villasenor\n",
      "Falaniko Vitale\n",
      "Jason Flue\n",
      "Igor Vovchanchyn\n",
      "Donny Walker\n",
      "Crafton Wallace\n",
      "Joe Warren\n",
      "Mark Weir\n",
      "Vernon White\n",
      "Mike Whitehead\n",
      "Justin Wilcox\n",
      "Pete Williams\n",
      "Eric Wisely\n",
      "Travis Wiuff\n",
      "Brandon Wolff\n",
      "Justin Wren\n",
      "Eddie Yagin\n",
      "Hirotaka Yokoi\n",
      "Dong Yoon\n",
      "Hidehiko Yoshida\n",
      "Trenell Young\n",
      "Rob Yundt\n",
      "Marius Zaromskis\n",
      "Roman Zentsov\n"
     ]
    }
   ],
   "source": [
    "'''\n",
    "To generate deltas, loop through the top fighters one by one and concatenate deltas results\n",
    "'''\n",
    "frames = []\n",
    "for fighter in full_list:\n",
    "    try:\n",
    "        df_fighter = df_full[df_full['red'] == fighter]\n",
    "        first = df_fighter['red_first'].values[0]\n",
    "        last = df_fighter['red_last'].values[0]\n",
    "        fighter_stats = df_5w[(df_5w['first'] == first) & (df_5w['last'] == last)]\n",
    "        fighter_stats.isnull().values.any()\n",
    "        fighter_stats['result'] = 'n/a'\n",
    "        opponent_stats = pd.merge(df_5w, df_fighter, left_on=['first', 'last'], right_on=['blue_first', 'blue_last'], how='inner')\n",
    "        fighter_deltas = generate_delta(fighter_stats, opponent_stats)\n",
    "        frames.append(fighter_deltas)\n",
    "    except:\n",
    "        print (first, last)\n",
    "#         display(fighter_stats)\n",
    "#         display(opponent_stats)\n",
    "# fighter_deltas.head()"
   ]
  },
  {
   "cell_type": "code",
   "execution_count": 21,
   "metadata": {},
   "outputs": [],
   "source": [
    "df_deltas_full = pd.concat(frames)\n",
    "df_deltas_full.replace([np.inf, -np.inf], np.nan, inplace=True)\n",
    "#Need to figure out why there are NAN results\n",
    "df_deltas_full.dropna(inplace=True)"
   ]
  },
  {
   "cell_type": "code",
   "execution_count": 22,
   "metadata": {},
   "outputs": [],
   "source": [
    "exclude_list = ['Danny Abbadi','David Abbott','Daniel Acacio','Mike Aina','Hitomi Akano','Razak Al-Hassan','Gilbert Aldana','Kenneth Alexander','Marcio Junior','Olaf Alfonso','Amilcar Alves','Andre Amado','Karl Amoussou','Reese Andy','Shinya Aoki','Erik Apple','Ricardo Arona','Pat Audinwood','Luiz Azeredo','Bryan Baker','Tae Bang','David Baron','Lyle Beerbohm','Charles Bennett','Steve Berger','Bret Bergmark','Keith Berry','Edson Berto','Jason Black','Jesse Bongfeldt','Paul Bradley','Ebenezer Braga','Joe Brammer','Chris Brennan','Aaron Brink','Todd Brown','Steve Bruno','Courtney Buck','Murilo Bustamante','Gina Carano','Phil Cardella','Antonio Junior','Shonie Carter','Bendy Casimir','Luke Caudillo','Ansar Chalangov','Joachim Christensen','Heather Clark','Wayne Cole','Devin Cole','Kit Cope','Muhsin Corbbrey','Wesley Correira','Jeff Cox','Dan Cramer','Alberto Crane','Richard Crunkilton','Marcio Cruz','Philip Fries','Chris Rocha','Mike Torre','Rodrigo Lima','Edilberto Oliveira','Jorge Oliveira','Germaine Randamie','Shane Rosario','Jon Reyes','Thomas Denny','Cory Devela','Edwin DeWees','Alessio Chirico','Rafael Dias','Kyle Dietz','Rafael Anjos','Junior Santos','Antonio Santos','Robert Drysdale','Joe Duarte','Justin Eilers','Jon Einemo','Aleksander Emelianenko','Tom Erikson','Doug Evans','Dan Evensen','Tonya Evinger','Edward Faaloloto','Brodie Farber','Kevin Ferguson','Bibiano Fernandes','Anthony Figueroa','Paulo Filho','Mirko Cop','Jan Finney','Luiz Firmino','Xavier Foupa-Pokam','Ian Freeman','Don Frye','Tony Fryklund','Kazuyuki Fujita','Travis Galbraith','Andre Galvao','Marcos Galvao','Joey Gambino','Brian Gassaway','Tiki Ghosn','Jason Gilliam','Clint Godfrey','Allan Goes','Gary Goodridge','Chase Gormley','Damian Grabowski','Royce Gracie','Renzo Gracie','Andre Gusmao','John Halverson','Joachim Hansen','Justin Haskins','Josh Haynes','Henrique Silva','Conor Heun','Branden Hinkle','Kwan Kwak','Sam Hoger','Mark Holst','Matt Horwich','John Hosman','Abongo Humphrey','Joe Hurley','Fabiano Iha','Seichi Ikemoto','Yusuke Imamura','Masakazu Imanari','Brad Imes','Enson Inoue','Mitsuhiro Ishida','Yoislandy Izquierdo','Eugene Jackson','Jeremy Jackson','Maciej Jewtuszko','Brian Johnston','Carlton Jones','Kevin Jordan','Jeff Joslin','Chan Jung','Hiromitsu Kanehara','Kyung Kang','Tetsuji Kato','CJ Keith','Mark Kerr','Sergei Kharitonov','Dong Kim','Tsuyoshi Kohsaka','John Kolosci','Yuki Kondo','Dan Lauzon','David Lee','Kimo Leopoldo','Justin Levens','Scott Lighty','Hyun Lim','Lucio Linhares','Jorge Lopez','Ian Loveland','Waylon Lowe','Mike Lullo','Adam Lynn','Bill Mahood','Melvin Manhoef','Jose Maria','Wagner Martins','Daijiro Matsui','Gan McGee','Greg McIntyre','Dave Menne','Guy Mezger','Kristof Midoux','Pat Miletich','Curtis Millender','Micah Miller','Adam Milstead','Ikuhisa Minowa','Kazuo Misaki','Dokonjonosuke Mishima','Eiji Mitsuoka','Kazuyuki Miyata','Tatsuya Mizuno','Roxanne Modafferi','Nate Moore','Brandon Moreno','Sammy Morgan','Brad Morris','Anthony Morrison','Lee Murray','Daisuke Nakamura','Jutaro Nakao','Yui Nam','Fabio Nascimento','Bobby Nash','Pawel Nastula','Dustin Neace','Antonio Neto','Carlos Newton','Yosuke Nishijima',\"TJ O'Brien\",'Jorge Oliveira','Alexander Otsuka','Shungo Oyama','Alexandre Pantoja','Bryan Pardoe','Michael Patt','Julio Paulino','Joe Pearson','Rolando Perez','Ross Pointon','Chris Price','Niko Price','Benji Radach','Jordan Radev','Hector Ramirez','Luis Ramos','Kevin Randleman','Gideon Ray','Abdul Alhassan','Chad Reiner','Jason Reinhardt','Will Ribeiro','Matt Ricehouse','Pedro Rizzo','Buddy Roberts','Colin Robinson','Carlos Rocha','Ricco Rodriguez','Marcos Lima','Jake Rosholt','Murilo Rua','Gabe Ruediger','Anthony Ruiz','Ovince Preux','Kazushi Sakuraba','Hayato Sakurai','Ivan Salaverry','Sean Salmon','Diego Saraiva','Harris Sarmiento','Masaaki Satake','Lumumba Sayers','Fabiano Scherner','Samy Schiavo','Semmy Schilt','Alex Schoenauer','Andrei Semenov','Ivan Serati','Dan Severn','Frank Shamrock','Katsuyori Shibata','Akira Shoji','Assuerio Silva','Jay Silva','Douglas Andrade','Wes Sims','Lodune Sincaid','Maurice Smith','Rameau Sokoudjou','Bobby Southworth','Chris Spang','Pete Spratt','Dion Staring','Alex Stiebling','Tyler Stinson','Dan Stittgen','Denis Stojnic','Curtis Stout','Dave Strasser','Genki Sudo','Amar Suloev','Yoshiki Takahashi','Daiju Takase','Hiroyuki Takaya','Kiyoshi Tamura','Jesse Taylor','James Huna','Tra Telligman','David Terrell','James Terry','Din Thomas','Ryan Thomas','Noah Thomas','James Thompson','Hideo Tokoro','Anthony Torres','Ronys Torres','Bryan Travers','Yasuhiro Urushitani','Victor Valimaki','Andrew Valladerez','Mike Arsdale','Matt Buren','Matt Veach','Joe Vedepo','Joe Veres','Renato Verissimo','Ketlen Vieira','Steve Vigneault','Joey Villasenor','Falaniko Vitale','Jason Flue','Igor Vovchanchyn','Donny Walker','Crafton Wallace','Joe Warren','Mark Weir','Vernon White','Mike Whitehead','Justin Wilcox','Pete Williams','Eric Wisely','Travis Wiuff','Brandon Wolff','Justin Wren','Eddie Yagin','Hirotaka Yokoi','Dong Yoon','Hidehiko Yoshida','Trenell Young','Rob Yundt','Marius Zaromskis','Roman Zentsov']\n",
    "intercepted_list = [x for x in full_list if x not in exclude_list]\n",
    "pickle.dump(intercepted_list, open('names.pkl', 'wb'))"
   ]
  },
  {
   "cell_type": "code",
   "execution_count": 23,
   "metadata": {},
   "outputs": [
    {
     "name": "stderr",
     "output_type": "stream",
     "text": [
      "/usr/local/lib/python3.6/site-packages/pandas/core/indexing.py:362: SettingWithCopyWarning: \n",
      "A value is trying to be set on a copy of a slice from a DataFrame.\n",
      "Try using .loc[row_indexer,col_indexer] = value instead\n",
      "\n",
      "See the caveats in the documentation: http://pandas.pydata.org/pandas-docs/stable/indexing.html#indexing-view-versus-copy\n",
      "  self.obj[key] = _infer_fill_value(value)\n",
      "/usr/local/lib/python3.6/site-packages/pandas/core/indexing.py:543: SettingWithCopyWarning: \n",
      "A value is trying to be set on a copy of a slice from a DataFrame.\n",
      "Try using .loc[row_indexer,col_indexer] = value instead\n",
      "\n",
      "See the caveats in the documentation: http://pandas.pydata.org/pandas-docs/stable/indexing.html#indexing-view-versus-copy\n",
      "  self.obj[item] = s\n"
     ]
    }
   ],
   "source": [
    "df_5w.loc[:,'full name'] = df_5w['first'] + ' ' + df_5w['last']\n",
    "df_5w = df_5w[~df_5w['full name'].isin(exclude_list)]"
   ]
  },
  {
   "cell_type": "code",
   "execution_count": 25,
   "metadata": {},
   "outputs": [
    {
     "name": "stdout",
     "output_type": "stream",
     "text": [
      "(7727, 11)\n",
      "(7727,)\n"
     ]
    }
   ],
   "source": [
    "train_predictors = df_deltas_full.iloc[:,:-1]\n",
    "train_response = df_deltas_full['result']\n",
    "X = train_predictors.values\n",
    "y = train_response.values\n",
    "print(X.shape)\n",
    "print(y.shape)"
   ]
  },
  {
   "cell_type": "code",
   "execution_count": null,
   "metadata": {},
   "outputs": [],
   "source": [
    "percent_misclassified = 0\n",
    "for train_index, test_index in kf.split(X):\n",
    "    x_train, x_test = X[train_index], X[test_index]\n",
    "    y_train, y_test = y[train_index], y[test_index]\n",
    "    clf = RandomForestClassifier(n_jobs=-1, max_features=5, n_estimators=500)\n",
    "    y_pred = clf.fit(x_train, y_train).predict(x_test)\n",
    "    percent_misclassified+=100*(y_test != y_pred).sum()/float(x_test.shape[0])\n",
    "#     print(\"mislabeled out of %d obs : %0.2f\"% (x_test.shape[0], 100*(y_test != y_pred).sum()/float(x_test.shape[0])))\n",
    "print(\"avg misclassification: %0.2f\"%float(percent_misclassified/num_splits))"
   ]
  },
  {
   "cell_type": "markdown",
   "metadata": {},
   "source": [
    "## Predictions"
   ]
  },
  {
   "cell_type": "code",
   "execution_count": 37,
   "metadata": {},
   "outputs": [],
   "source": [
    "default1 = 'Conor McGregor'.split(' ')\n",
    "default2 = 'Khabib Nurmagomedov'.split(' ')\n",
    "norm1 = df_norm[(df_norm['first'].str.lower() == default1[0].lower()) &\n",
    "        (df_norm['last'].str.lower() == default1[1].lower())]\n",
    "norm2 = df_norm[(df_norm['first'].str.lower() == default2[0].lower()) &\n",
    "        (df_norm['last'].str.lower() == default2[1].lower())]"
   ]
  },
  {
   "cell_type": "code",
   "execution_count": 38,
   "metadata": {},
   "outputs": [],
   "source": [
    "norm1 = norm1.to_dict('records')[0]\n",
    "norm2 = norm2.to_dict('records')[0]"
   ]
  },
  {
   "cell_type": "code",
   "execution_count": 54,
   "metadata": {},
   "outputs": [
    {
     "name": "stderr",
     "output_type": "stream",
     "text": [
      "/usr/local/lib/python3.6/site-packages/pandas/core/indexing.py:362: SettingWithCopyWarning: \n",
      "A value is trying to be set on a copy of a slice from a DataFrame.\n",
      "Try using .loc[row_indexer,col_indexer] = value instead\n",
      "\n",
      "See the caveats in the documentation: http://pandas.pydata.org/pandas-docs/stable/indexing.html#indexing-view-versus-copy\n",
      "  self.obj[key] = _infer_fill_value(value)\n",
      "/usr/local/lib/python3.6/site-packages/pandas/core/indexing.py:543: SettingWithCopyWarning: \n",
      "A value is trying to be set on a copy of a slice from a DataFrame.\n",
      "Try using .loc[row_indexer,col_indexer] = value instead\n",
      "\n",
      "See the caveats in the documentation: http://pandas.pydata.org/pandas-docs/stable/indexing.html#indexing-view-versus-copy\n",
      "  self.obj[item] = s\n",
      "/usr/local/lib/python3.6/site-packages/ipykernel_launcher.py:22: SettingWithCopyWarning: \n",
      "A value is trying to be set on a copy of a slice from a DataFrame\n",
      "\n",
      "See the caveats in the documentation: http://pandas.pydata.org/pandas-docs/stable/indexing.html#indexing-view-versus-copy\n"
     ]
    }
   ],
   "source": [
    "fighter1 = 'Raphael Assuncao'.split(' ')\n",
    "fighter2 = 'Cody Garbrandt'.split(' ')\n",
    "stat1 = df_5w[(df_5w['first'].str.lower() == fighter1[0].lower()) &\n",
    "        (df_5w['last'].str.lower() == fighter1[1].lower())]\n",
    "stat2 = df_5w[(df_5w['first'].str.lower() == fighter2[0].lower()) &\n",
    "        (df_5w['last'].str.lower() == fighter2[1].lower())]\n",
    "stat1.loc[:,'result'] = 'n/a'\n",
    "stat2.loc[:,'result'] = 'n/a'\n",
    "\n",
    "delta = generate_delta(stat1, stat2).iloc[:,:-1].values\n",
    "prediction = model.predict(delta)\n",
    "\n",
    "# norm1 = df_norm[(df_norm['first'].str.lower() == fighter1[0].lower()) &\n",
    "#         (df_norm['last'].str.lower() == fighter1[1].lower())]\n",
    "# norm2 = df_norm[(df_norm['first'].str.lower() == fighter2[0].lower()) &\n",
    "#         (df_norm['last'].str.lower() == fighter2[1].lower())]\n",
    "\n",
    "# return render_template('result.html', prediction=prediction, \n",
    "#     fighter1=''.join(result['fighter1']), \n",
    "#     fighter2=''.join(result['fighter2']),\n",
    "#     norm1 = norm1.to_dict('records')[0],\n",
    "#     norm2 = norm2.to_dict('records')[0],)"
   ]
  },
  {
   "cell_type": "code",
   "execution_count": 55,
   "metadata": {},
   "outputs": [
    {
     "data": {
      "text/plain": [
       "array([1.])"
      ]
     },
     "execution_count": 55,
     "metadata": {},
     "output_type": "execute_result"
    }
   ],
   "source": [
    "prediction"
   ]
  },
  {
   "cell_type": "code",
   "execution_count": null,
   "metadata": {},
   "outputs": [],
   "source": []
  }
 ],
 "metadata": {
  "kernelspec": {
   "display_name": "Python 3",
   "language": "python",
   "name": "python3"
  },
  "language_info": {
   "codemirror_mode": {
    "name": "ipython",
    "version": 3
   },
   "file_extension": ".py",
   "mimetype": "text/x-python",
   "name": "python",
   "nbconvert_exporter": "python",
   "pygments_lexer": "ipython3",
   "version": "3.6.5"
  }
 },
 "nbformat": 4,
 "nbformat_minor": 2
}
