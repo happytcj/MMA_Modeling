{
 "cells": [
  {
   "cell_type": "markdown",
   "metadata": {},
   "source": [
    "# Data Mining"
   ]
  },
  {
   "cell_type": "code",
   "execution_count": 1,
   "metadata": {},
   "outputs": [
    {
     "data": {
      "application/javascript": [
       "IPython.notebook.set_autosave_interval(300000)"
      ]
     },
     "metadata": {},
     "output_type": "display_data"
    },
    {
     "name": "stdout",
     "output_type": "stream",
     "text": [
      "Autosaving every 300 seconds\n"
     ]
    },
    {
     "name": "stderr",
     "output_type": "stream",
     "text": [
      "/usr/local/lib/python3.6/site-packages/sklearn/ensemble/weight_boosting.py:29: DeprecationWarning: numpy.core.umath_tests is an internal NumPy module and should not be imported. It will be removed in a future NumPy release.\n",
      "  from numpy.core.umath_tests import inner1d\n"
     ]
    }
   ],
   "source": [
    "import matplotlib.pyplot as plt\n",
    "import seaborn as sns\n",
    "import numpy as np \n",
    "import pandas as pd\n",
    "from scipy import stats\n",
    "%matplotlib inline\n",
    "%autosave 300\n",
    "%load_ext autoreload\n",
    "%autoreload 2\n",
    "from sklearn.preprocessing import scale, Normalizer, normalize, scale, MinMaxScaler\n",
    "from sklearn.dummy import DummyClassifier\n",
    "from sklearn import svm\n",
    "from sklearn.neighbors import KNeighborsClassifier\n",
    "from pandas.tools.plotting import scatter_matrix\n",
    "from sklearn.naive_bayes import GaussianNB\n",
    "from sklearn.naive_bayes import BernoulliNB\n",
    "from sklearn.feature_selection import chi2\n",
    "from pandas.tools.plotting import scatter_matrix\n",
    "from sklearn.ensemble import RandomForestClassifier\n",
    "from sklearn.ensemble import AdaBoostClassifier\n",
    "from sklearn.feature_selection import VarianceThreshold\n",
    "from sklearn import linear_model\n",
    "from IPython.display import display, HTML\n",
    "\n",
    "plt.rcParams['figure.figsize'] = (16, 8)\n",
    "plt.rcParams['font.size'] = 16\n",
    "plt.rcParams['text.usetex'] = False\n",
    "plt.rcParams['axes.labelsize'] = plt.rcParams['font.size']\n",
    "plt.rcParams['axes.titlesize'] = 1.5*plt.rcParams['font.size']\n",
    "plt.rcParams['legend.fontsize'] = 16\n",
    "plt.rcParams[\"figure.facecolor\"] = 'white'\n",
    "\n",
    "import matplotlib\n",
    "params = {'axes.labelsize': 18,'axes.titlesize':20, 'legend.fontsize': 20, 'xtick.labelsize': 16, 'ytick.labelsize': 16}\n",
    "matplotlib.rcParams.update(params)\n",
    "np.set_printoptions(precision=4)\n",
    "\n",
    "from sklearn.model_selection import KFold\n",
    "num_splits = 5.0\n",
    "kf = KFold(n_splits=int(num_splits))\n",
    "\n",
    "raw_data = pd.read_csv('data/fighter_data.csv')"
   ]
  },
  {
   "cell_type": "markdown",
   "metadata": {},
   "source": [
    "# Preprocessing"
   ]
  },
  {
   "cell_type": "code",
   "execution_count": 2,
   "metadata": {},
   "outputs": [],
   "source": [
    "df_5w = raw_data[((raw_data['w'].astype(int)+raw_data['l'].astype(float)+raw_data['d'].astype(float)) >= 5)]\n",
    "significant_df = df_5w[(df_5w['SLpM']\n",
    "           + df_5w['Str. Acc.'].apply(lambda x: x.strip('%')).astype(float)\n",
    "           + df_5w['SApM']\n",
    "           + df_5w['Str. Def'].apply(lambda x: x.strip('%')).astype(float)\n",
    "           + df_5w['TD Avg']\n",
    "           + df_5w['TD Acc.'].apply(lambda x: x.strip('%')).astype(float)\n",
    "           + df_5w['TD Def.'].apply(lambda x: x.strip('%')).astype(float)\n",
    "           + df_5w['Sub. Avg.']) > 0\n",
    "          ]"
   ]
  },
  {
   "cell_type": "code",
   "execution_count": 3,
   "metadata": {},
   "outputs": [],
   "source": [
    "def extract_stats_df(input_df):\n",
    "    df = input_df.filter(['SLpM','Str. Acc.','SApM', 'Str. Def', 'TD Avg', \n",
    "                                     'TD Acc.', 'TD Def.', 'Sub. Avg.'], \n",
    "                                     axis=1)\n",
    "    df['Str. Acc.'] = df['Str. Acc.'].apply(lambda x: x.strip('%')).astype(float)\n",
    "    df['Str. Def'] = df['Str. Def'].apply(lambda x: x.strip('%')).astype(float)\n",
    "    df['TD Acc.'] = df['TD Acc.'].apply(lambda x: x.strip('%')).astype(float)\n",
    "    df['TD Def.'] = df['TD Def.'].apply(lambda x: x.strip('%')).astype(float)\n",
    "    return df\n",
    "stats_df = extract_stats_df(significant_df)"
   ]
  },
  {
   "cell_type": "code",
   "execution_count": 4,
   "metadata": {},
   "outputs": [],
   "source": [
    "xticks = ['SLpM','Str. Acc.','SApM', 'Str. Def', 'TD Avg', 'TD Acc.', 'TD Def.', 'Sub. Avg.']"
   ]
  },
  {
   "cell_type": "code",
   "execution_count": 5,
   "metadata": {},
   "outputs": [],
   "source": [
    "#load the current top15 ranked fighters in all divisions\n",
    "top15_all_class = np.genfromtxt('./data/top15.csv', delimiter=',', dtype='str')\n",
    "\n",
    "significant_df = df_5w[(df_5w['SLpM']\n",
    "           + df_5w['Str. Acc.'].apply(lambda x: x.strip('%')).astype(float)\n",
    "           + df_5w['SApM']\n",
    "           + df_5w['Str. Def'].apply(lambda x: x.strip('%')).astype(float)\n",
    "           + df_5w['TD Avg']\n",
    "           + df_5w['TD Acc.'].apply(lambda x: x.strip('%')).astype(float)\n",
    "           + df_5w['TD Def.'].apply(lambda x: x.strip('%')).astype(float)\n",
    "           + df_5w['Sub. Avg.']) > 0\n",
    "          ]\n",
    "\n",
    "top15_df = significant_df[(significant_df['first'] + ' ' + significant_df['last']).isin(top15_all_class)]"
   ]
  },
  {
   "cell_type": "code",
   "execution_count": 6,
   "metadata": {},
   "outputs": [],
   "source": [
    "top15_names_df = (top15_df['first'] + ' ' + top15_df['last']).values"
   ]
  },
  {
   "cell_type": "code",
   "execution_count": 7,
   "metadata": {},
   "outputs": [],
   "source": [
    "reach_op = lambda x: float(x.replace('\"', '').strip())\n",
    "weight_op = lambda x: float(x.split()[0])\n",
    "stracc_op = lambda x: float(x[:-1])"
   ]
  },
  {
   "cell_type": "code",
   "execution_count": 8,
   "metadata": {},
   "outputs": [],
   "source": [
    "def height_op(in_str):\n",
    "    in_str = str(in_str)\n",
    "    if type(in_str) is int:\n",
    "        return in_str\n",
    "    feet, inches = in_str.split(' ')\n",
    "    feet_num = int(feet[:-1])\n",
    "    inches_num = int(inches[:-1])\n",
    "    return feet_num * 12 + inches_num\n",
    "def result_op(in_str):\n",
    "    if 'win' in in_str:\n",
    "        return 1\n",
    "    elif 'loss' in in_str:\n",
    "        return 0\n",
    "    elif 'n/a' in in_str:\n",
    "        return 0\n",
    "def cleanup_df(indf):\n",
    "    ret = pd.DataFrame()\n",
    "    indf.dropna(subset=['height', 'reach'], inplace=True)\n",
    "    ret['reach'] = indf['reach'].apply(reach_op)\n",
    "    ret['weight'] = indf['weight'].apply(weight_op)\n",
    "    ret['height'] = indf['height'].apply(height_op)\n",
    "    ret['w/l'] = indf['w']/(indf['w']+indf['l'])\n",
    "    ret['SLpM'] = indf['SLpM']\n",
    "    ret['Str. Acc.'] = indf['Str. Acc.'].apply(stracc_op)\n",
    "    ret['SApM'] = indf['SApM'].apply(float)\n",
    "    ret['Str. Def'] = indf['Str. Def'].apply(stracc_op)\n",
    "    ret['TD Avg'] = indf['TD Avg'].apply(float)\n",
    "    ret['TD Acc.'] = indf['TD Acc.'].apply(stracc_op)\n",
    "    ret['TD Def.'] = indf['TD Def.'].apply(stracc_op)\n",
    "    ret['Sub. Avg.'] = indf['Sub. Avg.'].apply(float)\n",
    "    ret['result'] = indf['result'].apply(result_op)\n",
    "    return ret"
   ]
  },
  {
   "cell_type": "code",
   "execution_count": 9,
   "metadata": {},
   "outputs": [],
   "source": [
    "#create new vector consisting of: height, weight, reach, w/l ratio, and statistics\n",
    "def generate_delta(primary, contender, mode='absolute'):\n",
    "    #first cleanup input dataframes\n",
    "    primary_clean = cleanup_df(primary)\n",
    "    contender_clean = cleanup_df(contender)\n",
    "    if mode == 'absolute':\n",
    "        delta = pd.DataFrame(data = (contender_clean.values-primary_clean.values),\n",
    "                             columns=contender_clean.columns)\n",
    "    elif mode == 'percentage':\n",
    "        delta = pd.DataFrame(100*(contender_clean.values-primary_clean.values)/primary_clean.values,\n",
    "                             columns=contender_clean.columns)\n",
    "    return delta"
   ]
  },
  {
   "cell_type": "markdown",
   "metadata": {},
   "source": [
    "# Top15 Fighters"
   ]
  },
  {
   "cell_type": "code",
   "execution_count": 10,
   "metadata": {},
   "outputs": [],
   "source": [
    "df_top15 = pd.read_csv('./data/top15_results.csv', delimiter=',', header=None)\n",
    "df_top15.columns = ['red', 'blue', 'result']\n",
    "df_top15['red_first'] = df_top15['red'].str.split(' ', expand=True)[0]\n",
    "def get_last_name(x):\n",
    "    return x.split(' ')[-1]\n",
    "df_top15['red_last'] = df_top15['red'].apply(get_last_name)\n",
    "df_top15['blue_first'] = df_top15['blue'].str.split(' ', expand=True)[0]\n",
    "df_top15['blue_last'] = df_top15['blue'].apply(get_last_name)"
   ]
  },
  {
   "cell_type": "code",
   "execution_count": 11,
   "metadata": {},
   "outputs": [
    {
     "data": {
      "text/html": [
       "<div>\n",
       "<style scoped>\n",
       "    .dataframe tbody tr th:only-of-type {\n",
       "        vertical-align: middle;\n",
       "    }\n",
       "\n",
       "    .dataframe tbody tr th {\n",
       "        vertical-align: top;\n",
       "    }\n",
       "\n",
       "    .dataframe thead th {\n",
       "        text-align: right;\n",
       "    }\n",
       "</style>\n",
       "<table border=\"1\" class=\"dataframe\">\n",
       "  <thead>\n",
       "    <tr style=\"text-align: right;\">\n",
       "      <th></th>\n",
       "      <th>red</th>\n",
       "      <th>blue</th>\n",
       "      <th>result</th>\n",
       "      <th>red_first</th>\n",
       "      <th>red_last</th>\n",
       "      <th>blue_first</th>\n",
       "      <th>blue_last</th>\n",
       "    </tr>\n",
       "  </thead>\n",
       "  <tbody>\n",
       "    <tr>\n",
       "      <th>0</th>\n",
       "      <td>Demetrious Johnson</td>\n",
       "      <td>Wilson Reis</td>\n",
       "      <td>win</td>\n",
       "      <td>Demetrious</td>\n",
       "      <td>Johnson</td>\n",
       "      <td>Wilson</td>\n",
       "      <td>Reis</td>\n",
       "    </tr>\n",
       "    <tr>\n",
       "      <th>1</th>\n",
       "      <td>Demetrious Johnson</td>\n",
       "      <td>Tim Elliott</td>\n",
       "      <td>win</td>\n",
       "      <td>Demetrious</td>\n",
       "      <td>Johnson</td>\n",
       "      <td>Tim</td>\n",
       "      <td>Elliott</td>\n",
       "    </tr>\n",
       "    <tr>\n",
       "      <th>2</th>\n",
       "      <td>Demetrious Johnson</td>\n",
       "      <td>Henry Cejudo</td>\n",
       "      <td>win</td>\n",
       "      <td>Demetrious</td>\n",
       "      <td>Johnson</td>\n",
       "      <td>Henry</td>\n",
       "      <td>Cejudo</td>\n",
       "    </tr>\n",
       "    <tr>\n",
       "      <th>3</th>\n",
       "      <td>Demetrious Johnson</td>\n",
       "      <td>John Dodson</td>\n",
       "      <td>win</td>\n",
       "      <td>Demetrious</td>\n",
       "      <td>Johnson</td>\n",
       "      <td>John</td>\n",
       "      <td>Dodson</td>\n",
       "    </tr>\n",
       "    <tr>\n",
       "      <th>4</th>\n",
       "      <td>Demetrious Johnson</td>\n",
       "      <td>Kyoji Horiguchi</td>\n",
       "      <td>win</td>\n",
       "      <td>Demetrious</td>\n",
       "      <td>Johnson</td>\n",
       "      <td>Kyoji</td>\n",
       "      <td>Horiguchi</td>\n",
       "    </tr>\n",
       "  </tbody>\n",
       "</table>\n",
       "</div>"
      ],
      "text/plain": [
       "                  red             blue result   red_first red_last blue_first  \\\n",
       "0  Demetrious Johnson      Wilson Reis    win  Demetrious  Johnson     Wilson   \n",
       "1  Demetrious Johnson      Tim Elliott    win  Demetrious  Johnson        Tim   \n",
       "2  Demetrious Johnson     Henry Cejudo    win  Demetrious  Johnson      Henry   \n",
       "3  Demetrious Johnson      John Dodson    win  Demetrious  Johnson       John   \n",
       "4  Demetrious Johnson  Kyoji Horiguchi    win  Demetrious  Johnson      Kyoji   \n",
       "\n",
       "   blue_last  \n",
       "0       Reis  \n",
       "1    Elliott  \n",
       "2     Cejudo  \n",
       "3     Dodson  \n",
       "4  Horiguchi  "
      ]
     },
     "execution_count": 11,
     "metadata": {},
     "output_type": "execute_result"
    }
   ],
   "source": [
    "top15_list = df_top15['red'].unique()\n",
    "df_top15.head()"
   ]
  },
  {
   "cell_type": "code",
   "execution_count": 12,
   "metadata": {},
   "outputs": [
    {
     "name": "stderr",
     "output_type": "stream",
     "text": [
      "/usr/local/lib/python3.6/site-packages/ipykernel_launcher.py:12: SettingWithCopyWarning: \n",
      "A value is trying to be set on a copy of a slice from a DataFrame.\n",
      "Try using .loc[row_indexer,col_indexer] = value instead\n",
      "\n",
      "See the caveats in the documentation: http://pandas.pydata.org/pandas-docs/stable/indexing.html#indexing-view-versus-copy\n",
      "  if sys.path[0] == '':\n",
      "/usr/local/lib/python3.6/site-packages/ipykernel_launcher.py:18: SettingWithCopyWarning: \n",
      "A value is trying to be set on a copy of a slice from a DataFrame\n",
      "\n",
      "See the caveats in the documentation: http://pandas.pydata.org/pandas-docs/stable/indexing.html#indexing-view-versus-copy\n"
     ]
    }
   ],
   "source": [
    "'''\n",
    "To generate deltas, loop through the top fighters one by one and concatenate deltas results\n",
    "'''\n",
    "frames = []\n",
    "for fighter in top15_list:\n",
    "    try:\n",
    "        df_fighter = df_top15[df_top15['red'] == fighter]\n",
    "        first = df_fighter['red_first'].values[0]\n",
    "        last = df_fighter['red_last'].values[0]\n",
    "        fighter_stats = df_5w[(df_5w['first'] == first) & (df_5w['last'] == last)]\n",
    "        fighter_stats.isnull().values.any()\n",
    "        fighter_stats['result'] = 'n/a'\n",
    "        opponent_stats = pd.merge(df_5w, df_fighter, left_on=['first', 'last'], right_on=['blue_first', 'blue_last'], how='inner')\n",
    "        fighter_deltas = generate_delta(fighter_stats, opponent_stats)\n",
    "        frames.append(fighter_deltas)\n",
    "    except Exception as e:\n",
    "#         print e\n",
    "#         print first, last\n",
    "        pass\n",
    "#         display(fighter_stats)\n",
    "#         display(opponent_stats)\n",
    "# fighter_deltas.head()"
   ]
  },
  {
   "cell_type": "code",
   "execution_count": 13,
   "metadata": {},
   "outputs": [],
   "source": [
    "df_deltas_top15 = pd.concat(frames)\n",
    "df_deltas_top15.replace([np.inf, -np.inf], np.nan, inplace=True)\n",
    "#Need to figure out why there are NAN results\n",
    "df_deltas_top15.dropna(inplace=True)"
   ]
  },
  {
   "cell_type": "code",
   "execution_count": 14,
   "metadata": {},
   "outputs": [
    {
     "name": "stdout",
     "output_type": "stream",
     "text": [
      "(1525, 12)\n",
      "(1525,)\n"
     ]
    }
   ],
   "source": [
    "train_predictors = df_deltas_top15.iloc[:,:-1]\n",
    "train_response = df_deltas_top15['result']\n",
    "X = train_predictors.values\n",
    "y = train_response.values\n",
    "print (X.shape)\n",
    "print (y.shape)"
   ]
  },
  {
   "cell_type": "code",
   "execution_count": 15,
   "metadata": {},
   "outputs": [
    {
     "name": "stdout",
     "output_type": "stream",
     "text": [
      "avg misclassification: 27.67\n"
     ]
    }
   ],
   "source": [
    "percent_misclassified = 0\n",
    "for train_index, test_index in kf.split(X):\n",
    "    x_train, x_test = X[train_index], X[test_index]\n",
    "    y_train, y_test = y[train_index], y[test_index]\n",
    "    clf = RandomForestClassifier(n_jobs=-1, max_features=5, n_estimators=500)\n",
    "    y_pred = clf.fit(x_train, y_train).predict(x_test)\n",
    "    percent_misclassified+=100*(y_test != y_pred).sum()/float(x_test.shape[0])\n",
    "#     print(\"mislabeled out of %d obs : %0.2f\"% (x_test.shape[0], 100*(y_test != y_pred).sum()/float(x_test.shape[0])))\n",
    "print(\"avg misclassification: %0.2f\"%float(percent_misclassified/num_splits))"
   ]
  },
  {
   "cell_type": "code",
   "execution_count": 16,
   "metadata": {},
   "outputs": [
    {
     "name": "stderr",
     "output_type": "stream",
     "text": [
      "/usr/local/lib/python3.6/site-packages/pandas/core/indexing.py:362: SettingWithCopyWarning: \n",
      "A value is trying to be set on a copy of a slice from a DataFrame.\n",
      "Try using .loc[row_indexer,col_indexer] = value instead\n",
      "\n",
      "See the caveats in the documentation: http://pandas.pydata.org/pandas-docs/stable/indexing.html#indexing-view-versus-copy\n",
      "  self.obj[key] = _infer_fill_value(value)\n",
      "/usr/local/lib/python3.6/site-packages/pandas/core/indexing.py:543: SettingWithCopyWarning: \n",
      "A value is trying to be set on a copy of a slice from a DataFrame.\n",
      "Try using .loc[row_indexer,col_indexer] = value instead\n",
      "\n",
      "See the caveats in the documentation: http://pandas.pydata.org/pandas-docs/stable/indexing.html#indexing-view-versus-copy\n",
      "  self.obj[item] = s\n",
      "/usr/local/lib/python3.6/site-packages/ipykernel_launcher.py:18: SettingWithCopyWarning: \n",
      "A value is trying to be set on a copy of a slice from a DataFrame\n",
      "\n",
      "See the caveats in the documentation: http://pandas.pydata.org/pandas-docs/stable/indexing.html#indexing-view-versus-copy\n"
     ]
    },
    {
     "data": {
      "text/plain": [
       "array([1.])"
      ]
     },
     "execution_count": 16,
     "metadata": {},
     "output_type": "execute_result"
    }
   ],
   "source": [
    "model = clf.fit(X, y)\n",
    "#try a prediction\n",
    "conor_stats = df_5w[(df_5w['first'] == 'Conor') & (df_5w['last'] == 'McGregor')]\n",
    "nate_stats = df_5w[(df_5w['first'] == 'Khabib') & (df_5w['last'] == 'Nurmagomedov')]\n",
    "conor_stats.loc[:,'result'] = 'n/a'\n",
    "nate_stats.loc[:,'result'] = 'n/a'\n",
    "try_delta = generate_delta(conor_stats, nate_stats).iloc[:,:-1].values\n",
    "model.predict(try_delta)"
   ]
  },
  {
   "cell_type": "markdown",
   "metadata": {},
   "source": [
    "## Export the model with Pickle"
   ]
  },
  {
   "cell_type": "code",
   "execution_count": 17,
   "metadata": {},
   "outputs": [],
   "source": [
    "import pickle\n",
    "pickle.dump(model, open(\"random_forest_model.pkl\", \"wb\"))\n",
    "pickle.dump(conor_stats, open('dummy1.pkl', 'wb'))\n",
    "pickle.dump(nate_stats, open('dummy2.pkl', 'wb'))"
   ]
  },
  {
   "cell_type": "code",
   "execution_count": null,
   "metadata": {},
   "outputs": [],
   "source": []
  }
 ],
 "metadata": {
  "kernelspec": {
   "display_name": "Python 3",
   "language": "python",
   "name": "python3"
  },
  "language_info": {
   "codemirror_mode": {
    "name": "ipython",
    "version": 3
   },
   "file_extension": ".py",
   "mimetype": "text/x-python",
   "name": "python",
   "nbconvert_exporter": "python",
   "pygments_lexer": "ipython3",
   "version": "3.6.5"
  }
 },
 "nbformat": 4,
 "nbformat_minor": 2
}
