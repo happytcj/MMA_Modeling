{
 "cells": [
  {
   "cell_type": "code",
   "execution_count": 1,
   "metadata": {
    "collapsed": false
   },
   "outputs": [],
   "source": [
    "import csv\n",
    "import glob\n",
    "import matplotlib\n",
    "import matplotlib.pyplot as plt\n",
    "# matplotlib.style.use('ggplot')\n",
    "import numpy as np\n",
    "import os\n",
    "import pandas as pd\n",
    "import shutil\n",
    "%matplotlib inline\n",
    "\n",
    "%load_ext autoreload\n",
    "%autoreload 2\n",
    "\n",
    "plt.rcParams['figure.figsize'] = (16, 8)\n",
    "plt.rcParams['font.size'] = 16\n",
    "plt.rcParams['text.usetex'] = False\n",
    "plt.rcParams['axes.labelsize'] = plt.rcParams['font.size']\n",
    "plt.rcParams['axes.titlesize'] = 1.5*plt.rcParams['font.size']\n",
    "plt.rcParams['legend.fontsize'] = 16"
   ]
  },
  {
   "cell_type": "code",
   "execution_count": 2,
   "metadata": {
    "collapsed": false
   },
   "outputs": [],
   "source": [
    "raw_data = pd.read_csv('fighter_data.csv')"
   ]
  },
  {
   "cell_type": "code",
   "execution_count": 3,
   "metadata": {
    "collapsed": false
   },
   "outputs": [],
   "source": [
    "df_5w = raw_data[(raw_data['w'].astype(int)+raw_data['l'].astype(float)+raw_data['d'].astype(float)) >= 5]"
   ]
  },
  {
   "cell_type": "code",
   "execution_count": 4,
   "metadata": {
    "collapsed": false,
    "scrolled": true
   },
   "outputs": [
    {
     "data": {
      "text/html": [
       "<div>\n",
       "<table border=\"1\" class=\"dataframe\">\n",
       "  <thead>\n",
       "    <tr style=\"text-align: right;\">\n",
       "      <th></th>\n",
       "      <th>first</th>\n",
       "      <th>last</th>\n",
       "      <th>nickname</th>\n",
       "      <th>height</th>\n",
       "      <th>weight</th>\n",
       "      <th>reach</th>\n",
       "      <th>stance</th>\n",
       "      <th>w</th>\n",
       "      <th>l</th>\n",
       "      <th>d</th>\n",
       "      <th>belt</th>\n",
       "      <th>SLpM</th>\n",
       "      <th>Str. Acc.</th>\n",
       "      <th>SApM</th>\n",
       "      <th>Str. Def</th>\n",
       "      <th>TD Avg</th>\n",
       "      <th>TD Acc.</th>\n",
       "      <th>TD Def.</th>\n",
       "      <th>Sub. Avg.</th>\n",
       "    </tr>\n",
       "  </thead>\n",
       "  <tbody>\n",
       "    <tr>\n",
       "      <th>1</th>\n",
       "      <td>Danny</td>\n",
       "      <td>Abbadi</td>\n",
       "      <td>The Assassin</td>\n",
       "      <td>5' 11\"</td>\n",
       "      <td>155 lbs.</td>\n",
       "      <td>n/a</td>\n",
       "      <td>Orthodox</td>\n",
       "      <td>4</td>\n",
       "      <td>6</td>\n",
       "      <td>0</td>\n",
       "      <td>n/a</td>\n",
       "      <td>3.29</td>\n",
       "      <td>38%</td>\n",
       "      <td>4.41</td>\n",
       "      <td>57%</td>\n",
       "      <td>0.00</td>\n",
       "      <td>0%</td>\n",
       "      <td>77%</td>\n",
       "      <td>0.0</td>\n",
       "    </tr>\n",
       "    <tr>\n",
       "      <th>2</th>\n",
       "      <td>David</td>\n",
       "      <td>Abbott</td>\n",
       "      <td>Tank</td>\n",
       "      <td>6' 0\"</td>\n",
       "      <td>265 lbs.</td>\n",
       "      <td>n/a</td>\n",
       "      <td>Switch</td>\n",
       "      <td>10</td>\n",
       "      <td>14</td>\n",
       "      <td>0</td>\n",
       "      <td>n/a</td>\n",
       "      <td>1.35</td>\n",
       "      <td>30%</td>\n",
       "      <td>3.55</td>\n",
       "      <td>38%</td>\n",
       "      <td>1.07</td>\n",
       "      <td>33%</td>\n",
       "      <td>66%</td>\n",
       "      <td>0.0</td>\n",
       "    </tr>\n",
       "    <tr>\n",
       "      <th>3</th>\n",
       "      <td>Shamil</td>\n",
       "      <td>Abdurakhimov</td>\n",
       "      <td>Abrek</td>\n",
       "      <td>6' 3\"</td>\n",
       "      <td>235 lbs.</td>\n",
       "      <td>76.0\"</td>\n",
       "      <td>Orthodox</td>\n",
       "      <td>16</td>\n",
       "      <td>4</td>\n",
       "      <td>0</td>\n",
       "      <td>n/a</td>\n",
       "      <td>2.48</td>\n",
       "      <td>45%</td>\n",
       "      <td>2.50</td>\n",
       "      <td>58%</td>\n",
       "      <td>1.40</td>\n",
       "      <td>22%</td>\n",
       "      <td>77%</td>\n",
       "      <td>0.3</td>\n",
       "    </tr>\n",
       "    <tr>\n",
       "      <th>4</th>\n",
       "      <td>Hiroyuki</td>\n",
       "      <td>Abe</td>\n",
       "      <td>Abe Ani</td>\n",
       "      <td>5' 6\"</td>\n",
       "      <td>145 lbs.</td>\n",
       "      <td>n/a</td>\n",
       "      <td>Orthodox</td>\n",
       "      <td>8</td>\n",
       "      <td>14</td>\n",
       "      <td>3</td>\n",
       "      <td>n/a</td>\n",
       "      <td>1.71</td>\n",
       "      <td>36%</td>\n",
       "      <td>3.11</td>\n",
       "      <td>63%</td>\n",
       "      <td>0.00</td>\n",
       "      <td>0%</td>\n",
       "      <td>33%</td>\n",
       "      <td>0.0</td>\n",
       "    </tr>\n",
       "    <tr>\n",
       "      <th>5</th>\n",
       "      <td>Papy</td>\n",
       "      <td>Abedi</td>\n",
       "      <td>Makambo</td>\n",
       "      <td>5' 11\"</td>\n",
       "      <td>185 lbs.</td>\n",
       "      <td>74.0\"</td>\n",
       "      <td>Southpaw</td>\n",
       "      <td>9</td>\n",
       "      <td>3</td>\n",
       "      <td>0</td>\n",
       "      <td>n/a</td>\n",
       "      <td>2.80</td>\n",
       "      <td>55%</td>\n",
       "      <td>3.15</td>\n",
       "      <td>48%</td>\n",
       "      <td>3.47</td>\n",
       "      <td>57%</td>\n",
       "      <td>50%</td>\n",
       "      <td>1.3</td>\n",
       "    </tr>\n",
       "  </tbody>\n",
       "</table>\n",
       "</div>"
      ],
      "text/plain": [
       "      first          last      nickname  height    weight  reach    stance  \\\n",
       "1     Danny        Abbadi  The Assassin  5' 11\"  155 lbs.    n/a  Orthodox   \n",
       "2     David        Abbott          Tank   6' 0\"  265 lbs.    n/a    Switch   \n",
       "3    Shamil  Abdurakhimov         Abrek   6' 3\"  235 lbs.  76.0\"  Orthodox   \n",
       "4  Hiroyuki           Abe       Abe Ani   5' 6\"  145 lbs.    n/a  Orthodox   \n",
       "5      Papy         Abedi       Makambo  5' 11\"  185 lbs.  74.0\"  Southpaw   \n",
       "\n",
       "    w   l  d belt  SLpM Str. Acc.  SApM Str. Def  TD Avg TD Acc. TD Def.  \\\n",
       "1   4   6  0  n/a  3.29       38%  4.41      57%    0.00      0%     77%   \n",
       "2  10  14  0  n/a  1.35       30%  3.55      38%    1.07     33%     66%   \n",
       "3  16   4  0  n/a  2.48       45%  2.50      58%    1.40     22%     77%   \n",
       "4   8  14  3  n/a  1.71       36%  3.11      63%    0.00      0%     33%   \n",
       "5   9   3  0  n/a  2.80       55%  3.15      48%    3.47     57%     50%   \n",
       "\n",
       "   Sub. Avg.  \n",
       "1        0.0  \n",
       "2        0.0  \n",
       "3        0.3  \n",
       "4        0.0  \n",
       "5        1.3  "
      ]
     },
     "execution_count": 4,
     "metadata": {},
     "output_type": "execute_result"
    }
   ],
   "source": [
    "significant_df = df_5w[(df_5w['SLpM']\n",
    "           + df_5w['Str. Acc.'].apply(lambda x: x.strip('%')).astype(float)\n",
    "           + df_5w['SApM']\n",
    "           + df_5w['Str. Def'].apply(lambda x: x.strip('%')).astype(float)\n",
    "           + df_5w['TD Avg']\n",
    "           + df_5w['TD Acc.'].apply(lambda x: x.strip('%')).astype(float)\n",
    "           + df_5w['TD Def.'].apply(lambda x: x.strip('%')).astype(float)\n",
    "           + df_5w['Sub. Avg.']) > 0\n",
    "          ]\n",
    "significant_df.head()"
   ]
  },
  {
   "cell_type": "code",
   "execution_count": 17,
   "metadata": {
    "collapsed": false,
    "scrolled": true
   },
   "outputs": [
    {
     "data": {
      "text/html": [
       "<div>\n",
       "<table border=\"1\" class=\"dataframe\">\n",
       "  <thead>\n",
       "    <tr style=\"text-align: right;\">\n",
       "      <th></th>\n",
       "      <th>SLpM</th>\n",
       "      <th>Str. Acc.</th>\n",
       "      <th>SApM</th>\n",
       "      <th>Str. Def</th>\n",
       "      <th>TD Avg</th>\n",
       "      <th>TD Acc.</th>\n",
       "      <th>TD Def.</th>\n",
       "      <th>Sub. Avg.</th>\n",
       "    </tr>\n",
       "  </thead>\n",
       "  <tbody>\n",
       "    <tr>\n",
       "      <th>1</th>\n",
       "      <td>3.29</td>\n",
       "      <td>38</td>\n",
       "      <td>4.41</td>\n",
       "      <td>57</td>\n",
       "      <td>0.00</td>\n",
       "      <td>0</td>\n",
       "      <td>77</td>\n",
       "      <td>0.0</td>\n",
       "    </tr>\n",
       "    <tr>\n",
       "      <th>2</th>\n",
       "      <td>1.35</td>\n",
       "      <td>30</td>\n",
       "      <td>3.55</td>\n",
       "      <td>38</td>\n",
       "      <td>1.07</td>\n",
       "      <td>33</td>\n",
       "      <td>66</td>\n",
       "      <td>0.0</td>\n",
       "    </tr>\n",
       "    <tr>\n",
       "      <th>3</th>\n",
       "      <td>2.48</td>\n",
       "      <td>45</td>\n",
       "      <td>2.50</td>\n",
       "      <td>58</td>\n",
       "      <td>1.40</td>\n",
       "      <td>22</td>\n",
       "      <td>77</td>\n",
       "      <td>0.3</td>\n",
       "    </tr>\n",
       "    <tr>\n",
       "      <th>4</th>\n",
       "      <td>1.71</td>\n",
       "      <td>36</td>\n",
       "      <td>3.11</td>\n",
       "      <td>63</td>\n",
       "      <td>0.00</td>\n",
       "      <td>0</td>\n",
       "      <td>33</td>\n",
       "      <td>0.0</td>\n",
       "    </tr>\n",
       "    <tr>\n",
       "      <th>5</th>\n",
       "      <td>2.80</td>\n",
       "      <td>55</td>\n",
       "      <td>3.15</td>\n",
       "      <td>48</td>\n",
       "      <td>3.47</td>\n",
       "      <td>57</td>\n",
       "      <td>50</td>\n",
       "      <td>1.3</td>\n",
       "    </tr>\n",
       "  </tbody>\n",
       "</table>\n",
       "</div>"
      ],
      "text/plain": [
       "   SLpM  Str. Acc.  SApM  Str. Def  TD Avg  TD Acc.  TD Def.  Sub. Avg.\n",
       "1  3.29         38  4.41        57    0.00        0       77        0.0\n",
       "2  1.35         30  3.55        38    1.07       33       66        0.0\n",
       "3  2.48         45  2.50        58    1.40       22       77        0.3\n",
       "4  1.71         36  3.11        63    0.00        0       33        0.0\n",
       "5  2.80         55  3.15        48    3.47       57       50        1.3"
      ]
     },
     "execution_count": 17,
     "metadata": {},
     "output_type": "execute_result"
    }
   ],
   "source": [
    "#attempt dimensional reduction by observing correlation matrix\n",
    "stats_df = significant_df.filter(['SLpM','Str. Acc.','SApM', 'Str. Def', 'TD Avg', \n",
    "                                 'TD Acc.', 'TD Def.', 'Sub. Avg.'], \n",
    "                                 axis=1)\n",
    "stats_df['Str. Acc.'] = stats_df['Str. Acc.'].apply(lambda x: x.strip('%')).astype(float)\n",
    "stats_df['Str. Def'] = stats_df['Str. Def'].apply(lambda x: x.strip('%')).astype(float)\n",
    "stats_df['TD Acc.'] = stats_df['TD Acc.'].apply(lambda x: x.strip('%')).astype(float)\n",
    "stats_df['TD Def.'] = stats_df['TD Def.'].apply(lambda x: x.strip('%')).astype(float)\n",
    "stats_df.head()"
   ]
  },
  {
   "cell_type": "code",
   "execution_count": 18,
   "metadata": {
    "collapsed": true
   },
   "outputs": [],
   "source": [
    "xticks = ['SLpM','Str. Acc.','SApM', 'Str. Def', 'TD Avg', 'TD Acc.', 'TD Def.', 'Sub. Avg.']"
   ]
  },
  {
   "cell_type": "code",
   "execution_count": 19,
   "metadata": {
    "collapsed": false
   },
   "outputs": [
    {
     "data": {
      "text/plain": [
       "(2014, 8)"
      ]
     },
     "execution_count": 19,
     "metadata": {},
     "output_type": "execute_result"
    }
   ],
   "source": [
    "stats_df.as_matrix().shape"
   ]
  },
  {
   "cell_type": "code",
   "execution_count": 23,
   "metadata": {
    "collapsed": false
   },
   "outputs": [],
   "source": [
    "a = stats_df.astype(float).as_matrix().transpose()\n",
    "b = np.corrcoef(a)"
   ]
  },
  {
   "cell_type": "code",
   "execution_count": 24,
   "metadata": {
    "collapsed": false
   },
   "outputs": [
    {
     "data": {
      "image/png": "[encoded data removed]",
      "text/plain": [
       "<matplotlib.figure.Figure at 0x112bc77d0>"
      ]
     },
     "metadata": {},
     "output_type": "display_data"
    }
   ],
   "source": [
    "fig, ax = plt.subplots()\n",
    "# im = ax.imshow(np.square(stats_df.corr()),interpolation='nearest')\n",
    "im = ax.imshow(np.square(b),interpolation='nearest')\n",
    "fig.colorbar(im)\n",
    "ax.set_yticks(range(len(xticks)))\n",
    "ax.set_yticklabels(xticks, rotation='horizontal')\n",
    "ax.set_xticks(range(len(xticks)))\n",
    "ax.set_xticklabels(xticks, rotation='vertical')\n",
    "ax.set_title('MMA_STATS_CORRELATION')\n",
    "pass"
   ]
  },
  {
   "cell_type": "code",
   "execution_count": null,
   "metadata": {
    "collapsed": true
   },
   "outputs": [],
   "source": []
  }
 ],
 "metadata": {
  "kernelspec": {
   "display_name": "Python 2",
   "language": "python",
   "name": "python2"
  },
  "language_info": {
   "codemirror_mode": {
    "name": "ipython",
    "version": 2
   },
   "file_extension": ".py",
   "mimetype": "text/x-python",
   "name": "python",
   "nbconvert_exporter": "python",
   "pygments_lexer": "ipython2",
   "version": "2.7.10"
  }
 },
 "nbformat": 4,
 "nbformat_minor": 0
}
