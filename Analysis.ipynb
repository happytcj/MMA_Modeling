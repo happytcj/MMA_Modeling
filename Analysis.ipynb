{
 "cells": [
  {
   "cell_type": "markdown",
   "metadata": {},
   "source": [
    "# Data Mining"
   ]
  },
  {
   "cell_type": "code",
   "execution_count": 241,
   "metadata": {},
   "outputs": [
    {
     "data": {
      "application/javascript": [
       "IPython.notebook.set_autosave_interval(300000)"
      ]
     },
     "metadata": {},
     "output_type": "display_data"
    },
    {
     "name": "stdout",
     "output_type": "stream",
     "text": [
      "Autosaving every 300 seconds\n",
      "The autoreload extension is already loaded. To reload it, use:\n",
      "  %reload_ext autoreload\n"
     ]
    }
   ],
   "source": [
    "import matplotlib.pyplot as plt\n",
    "import seaborn as sns\n",
    "import numpy as np \n",
    "import os\n",
    "import pandas as pd\n",
    "from scipy import stats\n",
    "%matplotlib inline\n",
    "%autosave 300\n",
    "%load_ext autoreload\n",
    "%autoreload 2\n",
    "from sklearn.preprocessing import scale, Normalizer, normalize, scale, MinMaxScaler\n",
    "from sklearn.dummy import DummyClassifier\n",
    "from sklearn import svm\n",
    "from sklearn.neighbors import KNeighborsClassifier\n",
    "from pandas.tools.plotting import scatter_matrix\n",
    "from sklearn.naive_bayes import GaussianNB\n",
    "from sklearn.naive_bayes import BernoulliNB\n",
    "from sklearn.feature_selection import chi2\n",
    "from pandas.tools.plotting import scatter_matrix\n",
    "from sklearn.ensemble import RandomForestClassifier\n",
    "from sklearn.ensemble import AdaBoostClassifier\n",
    "from sklearn.feature_selection import VarianceThreshold\n",
    "from sklearn import linear_model\n",
    "from IPython.display import display, HTML\n",
    "\n",
    "plt.rcParams['figure.figsize'] = (16, 8)\n",
    "plt.rcParams['font.size'] = 16\n",
    "plt.rcParams['text.usetex'] = False\n",
    "plt.rcParams['axes.labelsize'] = plt.rcParams['font.size']\n",
    "plt.rcParams['axes.titlesize'] = 1.5*plt.rcParams['font.size']\n",
    "plt.rcParams['legend.fontsize'] = 16\n",
    "plt.rcParams[\"figure.facecolor\"] = 'white'\n",
    "\n",
    "import matplotlib\n",
    "params = {'axes.labelsize': 18,'axes.titlesize':20, 'text.fontsize': 20, 'legend.fontsize': 20, 'xtick.labelsize': 16, 'ytick.labelsize': 16}\n",
    "matplotlib.rcParams.update(params)\n",
    "np.set_printoptions(precision=4)\n",
    "\n",
    "from sklearn.model_selection import KFold\n",
    "num_splits = 5.0\n",
    "kf = KFold(n_splits=int(num_splits))\n",
    "\n",
    "raw_data = pd.read_csv('data/fighter_data.csv')"
   ]
  },
  {
   "cell_type": "markdown",
   "metadata": {},
   "source": [
    "# Preprocessing"
   ]
  },
  {
   "cell_type": "code",
   "execution_count": 2,
   "metadata": {},
   "outputs": [],
   "source": [
    "# df_5w = raw_data[((raw_data['w'].astype(int)+raw_data['l'].astype(float)+raw_data['d'].astype(float)) >= 10)\n",
    "#                 & (raw_data['w'].astype(int) >= 5)]\n",
    "df_5w = raw_data[((raw_data['w'].astype(int)+raw_data['l'].astype(float)+raw_data['d'].astype(float)) >= 5)]"
   ]
  },
  {
   "cell_type": "code",
   "execution_count": 3,
   "metadata": {
    "scrolled": false
   },
   "outputs": [
    {
     "data": {
      "text/html": [
       "<div>\n",
       "<table border=\"1\" class=\"dataframe\">\n",
       "  <thead>\n",
       "    <tr style=\"text-align: right;\">\n",
       "      <th></th>\n",
       "      <th>first</th>\n",
       "      <th>last</th>\n",
       "      <th>nickname</th>\n",
       "      <th>height</th>\n",
       "      <th>weight</th>\n",
       "      <th>reach</th>\n",
       "      <th>stance</th>\n",
       "      <th>w</th>\n",
       "      <th>l</th>\n",
       "      <th>d</th>\n",
       "      <th>belt</th>\n",
       "      <th>SLpM</th>\n",
       "      <th>Str. Acc.</th>\n",
       "      <th>SApM</th>\n",
       "      <th>Str. Def</th>\n",
       "      <th>TD Avg</th>\n",
       "      <th>TD Acc.</th>\n",
       "      <th>TD Def.</th>\n",
       "      <th>Sub. Avg.</th>\n",
       "    </tr>\n",
       "  </thead>\n",
       "  <tbody>\n",
       "    <tr>\n",
       "      <th>1</th>\n",
       "      <td>Danny</td>\n",
       "      <td>Abbadi</td>\n",
       "      <td>The Assassin</td>\n",
       "      <td>5' 11\"</td>\n",
       "      <td>155 lbs.</td>\n",
       "      <td>n/a</td>\n",
       "      <td>Orthodox</td>\n",
       "      <td>4</td>\n",
       "      <td>6</td>\n",
       "      <td>0</td>\n",
       "      <td>n/a</td>\n",
       "      <td>3.29</td>\n",
       "      <td>38%</td>\n",
       "      <td>4.41</td>\n",
       "      <td>57%</td>\n",
       "      <td>0.00</td>\n",
       "      <td>0%</td>\n",
       "      <td>77%</td>\n",
       "      <td>0.0</td>\n",
       "    </tr>\n",
       "    <tr>\n",
       "      <th>2</th>\n",
       "      <td>David</td>\n",
       "      <td>Abbott</td>\n",
       "      <td>Tank</td>\n",
       "      <td>6' 0\"</td>\n",
       "      <td>265 lbs.</td>\n",
       "      <td>n/a</td>\n",
       "      <td>Switch</td>\n",
       "      <td>10</td>\n",
       "      <td>14</td>\n",
       "      <td>0</td>\n",
       "      <td>n/a</td>\n",
       "      <td>1.35</td>\n",
       "      <td>30%</td>\n",
       "      <td>3.55</td>\n",
       "      <td>38%</td>\n",
       "      <td>1.07</td>\n",
       "      <td>33%</td>\n",
       "      <td>66%</td>\n",
       "      <td>0.0</td>\n",
       "    </tr>\n",
       "    <tr>\n",
       "      <th>3</th>\n",
       "      <td>Shamil</td>\n",
       "      <td>Abdurakhimov</td>\n",
       "      <td>Abrek</td>\n",
       "      <td>6' 3\"</td>\n",
       "      <td>235 lbs.</td>\n",
       "      <td>76.0\"</td>\n",
       "      <td>Orthodox</td>\n",
       "      <td>16</td>\n",
       "      <td>4</td>\n",
       "      <td>0</td>\n",
       "      <td>n/a</td>\n",
       "      <td>2.48</td>\n",
       "      <td>45%</td>\n",
       "      <td>2.50</td>\n",
       "      <td>58%</td>\n",
       "      <td>1.40</td>\n",
       "      <td>22%</td>\n",
       "      <td>77%</td>\n",
       "      <td>0.3</td>\n",
       "    </tr>\n",
       "    <tr>\n",
       "      <th>4</th>\n",
       "      <td>Hiroyuki</td>\n",
       "      <td>Abe</td>\n",
       "      <td>Abe Ani</td>\n",
       "      <td>5' 6\"</td>\n",
       "      <td>145 lbs.</td>\n",
       "      <td>n/a</td>\n",
       "      <td>Orthodox</td>\n",
       "      <td>8</td>\n",
       "      <td>14</td>\n",
       "      <td>3</td>\n",
       "      <td>n/a</td>\n",
       "      <td>1.71</td>\n",
       "      <td>36%</td>\n",
       "      <td>3.11</td>\n",
       "      <td>63%</td>\n",
       "      <td>0.00</td>\n",
       "      <td>0%</td>\n",
       "      <td>33%</td>\n",
       "      <td>0.0</td>\n",
       "    </tr>\n",
       "    <tr>\n",
       "      <th>5</th>\n",
       "      <td>Papy</td>\n",
       "      <td>Abedi</td>\n",
       "      <td>Makambo</td>\n",
       "      <td>5' 11\"</td>\n",
       "      <td>185 lbs.</td>\n",
       "      <td>74.0\"</td>\n",
       "      <td>Southpaw</td>\n",
       "      <td>9</td>\n",
       "      <td>3</td>\n",
       "      <td>0</td>\n",
       "      <td>n/a</td>\n",
       "      <td>2.80</td>\n",
       "      <td>55%</td>\n",
       "      <td>3.15</td>\n",
       "      <td>48%</td>\n",
       "      <td>3.47</td>\n",
       "      <td>57%</td>\n",
       "      <td>50%</td>\n",
       "      <td>1.3</td>\n",
       "    </tr>\n",
       "  </tbody>\n",
       "</table>\n",
       "</div>"
      ],
      "text/plain": [
       "      first          last      nickname  height    weight  reach    stance  \\\n",
       "1     Danny        Abbadi  The Assassin  5' 11\"  155 lbs.    n/a  Orthodox   \n",
       "2     David        Abbott          Tank   6' 0\"  265 lbs.    n/a    Switch   \n",
       "3    Shamil  Abdurakhimov         Abrek   6' 3\"  235 lbs.  76.0\"  Orthodox   \n",
       "4  Hiroyuki           Abe       Abe Ani   5' 6\"  145 lbs.    n/a  Orthodox   \n",
       "5      Papy         Abedi       Makambo  5' 11\"  185 lbs.  74.0\"  Southpaw   \n",
       "\n",
       "    w   l  d belt  SLpM Str. Acc.  SApM Str. Def  TD Avg TD Acc. TD Def.  \\\n",
       "1   4   6  0  n/a  3.29       38%  4.41      57%    0.00      0%     77%   \n",
       "2  10  14  0  n/a  1.35       30%  3.55      38%    1.07     33%     66%   \n",
       "3  16   4  0  n/a  2.48       45%  2.50      58%    1.40     22%     77%   \n",
       "4   8  14  3  n/a  1.71       36%  3.11      63%    0.00      0%     33%   \n",
       "5   9   3  0  n/a  2.80       55%  3.15      48%    3.47     57%     50%   \n",
       "\n",
       "   Sub. Avg.  \n",
       "1        0.0  \n",
       "2        0.0  \n",
       "3        0.3  \n",
       "4        0.0  \n",
       "5        1.3  "
      ]
     },
     "execution_count": 3,
     "metadata": {},
     "output_type": "execute_result"
    }
   ],
   "source": [
    "significant_df = df_5w[(df_5w['SLpM']\n",
    "           + df_5w['Str. Acc.'].apply(lambda x: x.strip('%')).astype(float)\n",
    "           + df_5w['SApM']\n",
    "           + df_5w['Str. Def'].apply(lambda x: x.strip('%')).astype(float)\n",
    "           + df_5w['TD Avg']\n",
    "           + df_5w['TD Acc.'].apply(lambda x: x.strip('%')).astype(float)\n",
    "           + df_5w['TD Def.'].apply(lambda x: x.strip('%')).astype(float)\n",
    "           + df_5w['Sub. Avg.']) > 0\n",
    "          ]\n",
    "significant_df.head()"
   ]
  },
  {
   "cell_type": "code",
   "execution_count": 4,
   "metadata": {},
   "outputs": [],
   "source": [
    "def extract_stats_df(input_df):\n",
    "    df = input_df.filter(['SLpM','Str. Acc.','SApM', 'Str. Def', 'TD Avg', \n",
    "                                     'TD Acc.', 'TD Def.', 'Sub. Avg.'], \n",
    "                                     axis=1)\n",
    "    df['Str. Acc.'] = df['Str. Acc.'].apply(lambda x: x.strip('%')).astype(float)\n",
    "    df['Str. Def'] = df['Str. Def'].apply(lambda x: x.strip('%')).astype(float)\n",
    "    df['TD Acc.'] = df['TD Acc.'].apply(lambda x: x.strip('%')).astype(float)\n",
    "    df['TD Def.'] = df['TD Def.'].apply(lambda x: x.strip('%')).astype(float)\n",
    "    return df"
   ]
  },
  {
   "cell_type": "code",
   "execution_count": 5,
   "metadata": {
    "scrolled": true
   },
   "outputs": [],
   "source": [
    "stats_df = extract_stats_df(significant_df)"
   ]
  },
  {
   "cell_type": "code",
   "execution_count": 6,
   "metadata": {},
   "outputs": [],
   "source": [
    "xticks = ['SLpM','Str. Acc.','SApM', 'Str. Def', 'TD Avg', 'TD Acc.', 'TD Def.', 'Sub. Avg.']"
   ]
  },
  {
   "cell_type": "code",
   "execution_count": 7,
   "metadata": {},
   "outputs": [],
   "source": [
    "#load the current top15 ranked fighters in all divisions\n",
    "top15_all_class = np.genfromtxt('./data/top15.csv', delimiter=',', dtype='str')\n",
    "\n",
    "significant_df = df_5w[(df_5w['SLpM']\n",
    "           + df_5w['Str. Acc.'].apply(lambda x: x.strip('%')).astype(float)\n",
    "           + df_5w['SApM']\n",
    "           + df_5w['Str. Def'].apply(lambda x: x.strip('%')).astype(float)\n",
    "           + df_5w['TD Avg']\n",
    "           + df_5w['TD Acc.'].apply(lambda x: x.strip('%')).astype(float)\n",
    "           + df_5w['TD Def.'].apply(lambda x: x.strip('%')).astype(float)\n",
    "           + df_5w['Sub. Avg.']) > 0\n",
    "          ]\n",
    "\n",
    "top15_df = significant_df[(significant_df['first'] + ' ' + significant_df['last']).isin(top15_all_class)]"
   ]
  },
  {
   "cell_type": "code",
   "execution_count": 8,
   "metadata": {},
   "outputs": [
    {
     "name": "stdout",
     "output_type": "stream",
     "text": [
      "['Alexandre Pantoja', 'Magomed Bibulatov', 'Marlon Moraes', 'Justin Gaethje', 'David Branch', 'Volkan Oezdemir', 'Junior Albini', 'Cynthia Calvillo']\n"
     ]
    }
   ],
   "source": [
    "top15_names_df = (top15_df['first'] + ' ' + top15_df['last']).as_matrix()\n",
    "print [x for x in top15_all_class if x not in top15_names_df]"
   ]
  },
  {
   "cell_type": "code",
   "execution_count": 9,
   "metadata": {},
   "outputs": [],
   "source": [
    "df_bisping = pd.read_csv('./data/bisping_results.csv', delimiter=',', header=0)"
   ]
  },
  {
   "cell_type": "code",
   "execution_count": 10,
   "metadata": {},
   "outputs": [],
   "source": [
    "#Create training dataset of fights won and the features associated with the winner\n",
    "df_bisping[['first', 'last']] = df_bisping['name'].str.split(' ', expand=True)"
   ]
  },
  {
   "cell_type": "code",
   "execution_count": 11,
   "metadata": {},
   "outputs": [],
   "source": [
    "#left outer join for intersection of the DF and bisping_res\n",
    "bisping_opponent_stats = pd.merge(df_5w, df_bisping, on=['first', 'last'], how='inner')"
   ]
  },
  {
   "cell_type": "code",
   "execution_count": 12,
   "metadata": {},
   "outputs": [
    {
     "name": "stderr",
     "output_type": "stream",
     "text": [
      "/usr/local/lib/python2.7/site-packages/ipykernel_launcher.py:2: SettingWithCopyWarning: \n",
      "A value is trying to be set on a copy of a slice from a DataFrame.\n",
      "Try using .loc[row_indexer,col_indexer] = value instead\n",
      "\n",
      "See the caveats in the documentation: http://pandas.pydata.org/pandas-docs/stable/indexing.html#indexing-view-versus-copy\n",
      "  \n"
     ]
    }
   ],
   "source": [
    "bisping_stats = df_5w[(df_5w['first'] == 'Michael') & (df_5w['last'] == 'Bisping')]\n",
    "bisping_stats['result'] = 'n/a'"
   ]
  },
  {
   "cell_type": "code",
   "execution_count": 13,
   "metadata": {},
   "outputs": [],
   "source": [
    "reach_op = lambda x: float(x.replace('\"', '').strip())\n",
    "weight_op = lambda x: float(x.split()[0])\n",
    "stracc_op = lambda x: float(x[:-1])"
   ]
  },
  {
   "cell_type": "code",
   "execution_count": 14,
   "metadata": {},
   "outputs": [],
   "source": [
    "def height_op(in_str):\n",
    "    if type(in_str) is int:\n",
    "        return in_str\n",
    "    feet, inches = in_str.split(' ')\n",
    "    feet_num = int(feet[:-1])\n",
    "    inches_num = int(inches[:-1])\n",
    "    return feet_num * 12 + inches_num"
   ]
  },
  {
   "cell_type": "code",
   "execution_count": 15,
   "metadata": {},
   "outputs": [],
   "source": [
    "def result_op(in_str):\n",
    "    if 'win' in in_str:\n",
    "        return 1\n",
    "    elif 'loss' in in_str:\n",
    "        return 0\n",
    "    elif 'n/a' in in_str:\n",
    "        return 0"
   ]
  },
  {
   "cell_type": "code",
   "execution_count": 213,
   "metadata": {},
   "outputs": [
    {
     "data": {
      "text/html": [
       "<div>\n",
       "<table border=\"1\" class=\"dataframe\">\n",
       "  <thead>\n",
       "    <tr style=\"text-align: right;\">\n",
       "      <th></th>\n",
       "      <th>reach</th>\n",
       "      <th>weight</th>\n",
       "      <th>height</th>\n",
       "      <th>w/l</th>\n",
       "      <th>SLpM</th>\n",
       "      <th>Str. Acc.</th>\n",
       "      <th>SApM</th>\n",
       "      <th>Str. Def</th>\n",
       "      <th>TD Avg</th>\n",
       "      <th>TD Acc.</th>\n",
       "      <th>TD Def.</th>\n",
       "      <th>Sub. Avg.</th>\n",
       "      <th>result</th>\n",
       "    </tr>\n",
       "  </thead>\n",
       "  <tbody>\n",
       "    <tr>\n",
       "      <th>0</th>\n",
       "      <td>73</td>\n",
       "      <td>170</td>\n",
       "      <td>70</td>\n",
       "      <td>0.700000</td>\n",
       "      <td>3.10</td>\n",
       "      <td>41</td>\n",
       "      <td>3.62</td>\n",
       "      <td>57</td>\n",
       "      <td>2.29</td>\n",
       "      <td>67</td>\n",
       "      <td>92</td>\n",
       "      <td>1.0</td>\n",
       "      <td>1</td>\n",
       "    </tr>\n",
       "    <tr>\n",
       "      <th>1</th>\n",
       "      <td>73</td>\n",
       "      <td>185</td>\n",
       "      <td>74</td>\n",
       "      <td>0.708333</td>\n",
       "      <td>2.70</td>\n",
       "      <td>41</td>\n",
       "      <td>3.10</td>\n",
       "      <td>59</td>\n",
       "      <td>0.44</td>\n",
       "      <td>26</td>\n",
       "      <td>55</td>\n",
       "      <td>0.9</td>\n",
       "      <td>1</td>\n",
       "    </tr>\n",
       "    <tr>\n",
       "      <th>2</th>\n",
       "      <td>74</td>\n",
       "      <td>185</td>\n",
       "      <td>72</td>\n",
       "      <td>0.657895</td>\n",
       "      <td>1.54</td>\n",
       "      <td>47</td>\n",
       "      <td>2.71</td>\n",
       "      <td>51</td>\n",
       "      <td>1.15</td>\n",
       "      <td>60</td>\n",
       "      <td>53</td>\n",
       "      <td>0.7</td>\n",
       "      <td>0</td>\n",
       "    </tr>\n",
       "    <tr>\n",
       "      <th>3</th>\n",
       "      <td>72</td>\n",
       "      <td>185</td>\n",
       "      <td>72</td>\n",
       "      <td>0.612903</td>\n",
       "      <td>3.61</td>\n",
       "      <td>54</td>\n",
       "      <td>3.46</td>\n",
       "      <td>47</td>\n",
       "      <td>1.13</td>\n",
       "      <td>100</td>\n",
       "      <td>0</td>\n",
       "      <td>0.0</td>\n",
       "      <td>1</td>\n",
       "    </tr>\n",
       "    <tr>\n",
       "      <th>4</th>\n",
       "      <td>76</td>\n",
       "      <td>205</td>\n",
       "      <td>74</td>\n",
       "      <td>0.640000</td>\n",
       "      <td>2.71</td>\n",
       "      <td>45</td>\n",
       "      <td>2.48</td>\n",
       "      <td>57</td>\n",
       "      <td>3.45</td>\n",
       "      <td>50</td>\n",
       "      <td>83</td>\n",
       "      <td>1.0</td>\n",
       "      <td>1</td>\n",
       "    </tr>\n",
       "  </tbody>\n",
       "</table>\n",
       "</div>"
      ],
      "text/plain": [
       "   reach  weight  height       w/l  SLpM  Str. Acc.  SApM  Str. Def  TD Avg  \\\n",
       "0     73     170      70  0.700000  3.10         41  3.62        57    2.29   \n",
       "1     73     185      74  0.708333  2.70         41  3.10        59    0.44   \n",
       "2     74     185      72  0.657895  1.54         47  2.71        51    1.15   \n",
       "3     72     185      72  0.612903  3.61         54  3.46        47    1.13   \n",
       "4     76     205      74  0.640000  2.71         45  2.48        57    3.45   \n",
       "\n",
       "   TD Acc.  TD Def.  Sub. Avg.  result  \n",
       "0       67       92        1.0       1  \n",
       "1       26       55        0.9       1  \n",
       "2       60       53        0.7       0  \n",
       "3      100        0        0.0       1  \n",
       "4       50       83        1.0       1  "
      ]
     },
     "execution_count": 213,
     "metadata": {},
     "output_type": "execute_result"
    }
   ],
   "source": [
    "def cleanup_df(indf):\n",
    "    ret = pd.DataFrame()\n",
    "    indf = indf[(indf['height'] != 'n/a') & (indf['reach'] != 'n/a')]\n",
    "    ret['reach'] = indf['reach'].apply(reach_op)\n",
    "    ret['weight'] = indf['weight'].apply(weight_op)\n",
    "    ret['height'] = indf['height'].apply(height_op)\n",
    "    ret['w/l'] = indf['w']/(indf['w']+indf['l'])\n",
    "    ret['SLpM'] = indf['SLpM']\n",
    "    ret['Str. Acc.'] = indf['Str. Acc.'].apply(stracc_op)\n",
    "    ret['SApM'] = indf['SApM'].apply(float)\n",
    "    ret['Str. Def'] = indf['Str. Def'].apply(stracc_op)\n",
    "    ret['TD Avg'] = indf['TD Avg'].apply(float)\n",
    "    ret['TD Acc.'] = indf['TD Acc.'].apply(stracc_op)\n",
    "    ret['TD Def.'] = indf['TD Def.'].apply(stracc_op)\n",
    "    ret['Sub. Avg.'] = indf['Sub. Avg.'].apply(float)\n",
    "    ret['result'] = indf['result'].apply(result_op)\n",
    "    return ret\n",
    "cleanup_df(bisping_opponent_stats).head()"
   ]
  },
  {
   "cell_type": "code",
   "execution_count": 17,
   "metadata": {},
   "outputs": [],
   "source": [
    "#create new vector consisting of: height, weight, reach, w/l ratio, and statistics\n",
    "def generate_delta(primary, contender):\n",
    "    #first cleanup input dataframes\n",
    "    primary_clean = cleanup_df(primary)\n",
    "    contender_clean = cleanup_df(contender)\n",
    "    delta = pd.DataFrame(contender_clean.values-primary_clean.values,\n",
    "                         columns=contender_clean.columns)\n",
    "    return delta"
   ]
  },
  {
   "cell_type": "code",
   "execution_count": 20,
   "metadata": {
    "scrolled": false
   },
   "outputs": [
    {
     "data": {
      "text/html": [
       "<div>\n",
       "<table border=\"1\" class=\"dataframe\">\n",
       "  <thead>\n",
       "    <tr style=\"text-align: right;\">\n",
       "      <th></th>\n",
       "      <th>reach</th>\n",
       "      <th>weight</th>\n",
       "      <th>height</th>\n",
       "      <th>w/l</th>\n",
       "      <th>SLpM</th>\n",
       "      <th>Str. Acc.</th>\n",
       "      <th>SApM</th>\n",
       "      <th>Str. Def</th>\n",
       "      <th>TD Avg</th>\n",
       "      <th>TD Acc.</th>\n",
       "      <th>TD Def.</th>\n",
       "      <th>Sub. Avg.</th>\n",
       "      <th>result</th>\n",
       "    </tr>\n",
       "  </thead>\n",
       "  <tbody>\n",
       "    <tr>\n",
       "      <th>0</th>\n",
       "      <td>-2</td>\n",
       "      <td>-15</td>\n",
       "      <td>-3</td>\n",
       "      <td>-2.095238</td>\n",
       "      <td>-1.34</td>\n",
       "      <td>3</td>\n",
       "      <td>0.99</td>\n",
       "      <td>-9</td>\n",
       "      <td>1.19</td>\n",
       "      <td>24</td>\n",
       "      <td>28</td>\n",
       "      <td>0.7</td>\n",
       "      <td>1</td>\n",
       "    </tr>\n",
       "    <tr>\n",
       "      <th>1</th>\n",
       "      <td>-2</td>\n",
       "      <td>0</td>\n",
       "      <td>1</td>\n",
       "      <td>-2.000000</td>\n",
       "      <td>-1.74</td>\n",
       "      <td>3</td>\n",
       "      <td>0.47</td>\n",
       "      <td>-7</td>\n",
       "      <td>-0.66</td>\n",
       "      <td>-17</td>\n",
       "      <td>-9</td>\n",
       "      <td>0.6</td>\n",
       "      <td>1</td>\n",
       "    </tr>\n",
       "    <tr>\n",
       "      <th>2</th>\n",
       "      <td>-1</td>\n",
       "      <td>0</td>\n",
       "      <td>-1</td>\n",
       "      <td>-2.505495</td>\n",
       "      <td>-2.90</td>\n",
       "      <td>9</td>\n",
       "      <td>0.08</td>\n",
       "      <td>-15</td>\n",
       "      <td>0.05</td>\n",
       "      <td>17</td>\n",
       "      <td>-11</td>\n",
       "      <td>0.4</td>\n",
       "      <td>0</td>\n",
       "    </tr>\n",
       "    <tr>\n",
       "      <th>3</th>\n",
       "      <td>-3</td>\n",
       "      <td>0</td>\n",
       "      <td>-1</td>\n",
       "      <td>-2.845238</td>\n",
       "      <td>-0.83</td>\n",
       "      <td>16</td>\n",
       "      <td>0.83</td>\n",
       "      <td>-19</td>\n",
       "      <td>0.03</td>\n",
       "      <td>57</td>\n",
       "      <td>-64</td>\n",
       "      <td>-0.3</td>\n",
       "      <td>1</td>\n",
       "    </tr>\n",
       "    <tr>\n",
       "      <th>4</th>\n",
       "      <td>1</td>\n",
       "      <td>20</td>\n",
       "      <td>1</td>\n",
       "      <td>-2.650794</td>\n",
       "      <td>-1.73</td>\n",
       "      <td>7</td>\n",
       "      <td>-0.15</td>\n",
       "      <td>-9</td>\n",
       "      <td>2.35</td>\n",
       "      <td>7</td>\n",
       "      <td>19</td>\n",
       "      <td>0.7</td>\n",
       "      <td>1</td>\n",
       "    </tr>\n",
       "  </tbody>\n",
       "</table>\n",
       "</div>"
      ],
      "text/plain": [
       "   reach  weight  height       w/l  SLpM  Str. Acc.  SApM  Str. Def  TD Avg  \\\n",
       "0     -2     -15      -3 -2.095238 -1.34          3  0.99        -9    1.19   \n",
       "1     -2       0       1 -2.000000 -1.74          3  0.47        -7   -0.66   \n",
       "2     -1       0      -1 -2.505495 -2.90          9  0.08       -15    0.05   \n",
       "3     -3       0      -1 -2.845238 -0.83         16  0.83       -19    0.03   \n",
       "4      1      20       1 -2.650794 -1.73          7 -0.15        -9    2.35   \n",
       "\n",
       "   TD Acc.  TD Def.  Sub. Avg.  result  \n",
       "0       24       28        0.7       1  \n",
       "1      -17       -9        0.6       1  \n",
       "2       17      -11        0.4       0  \n",
       "3       57      -64       -0.3       1  \n",
       "4        7       19        0.7       1  "
      ]
     },
     "execution_count": 20,
     "metadata": {},
     "output_type": "execute_result"
    }
   ],
   "source": [
    "bisping_delta = generate_delta(bisping_stats, bisping_opponent_stats)\n",
    "bisping_delta.head()"
   ]
  },
  {
   "cell_type": "markdown",
   "metadata": {},
   "source": [
    "# Pilot Analysis: Bisping Only"
   ]
  },
  {
   "cell_type": "code",
   "execution_count": 21,
   "metadata": {},
   "outputs": [],
   "source": [
    "train_predictors = bisping_delta.iloc[:,:-1].dropna()\n",
    "train_response = bisping_delta['result'].dropna()\n",
    "X = train_predictors.as_matrix()\n",
    "y = train_response.as_matrix()"
   ]
  },
  {
   "cell_type": "code",
   "execution_count": 22,
   "metadata": {},
   "outputs": [
    {
     "name": "stdout",
     "output_type": "stream",
     "text": [
      "(26, 12)\n",
      "(26,)\n"
     ]
    }
   ],
   "source": [
    "print X.shape\n",
    "print y.shape"
   ]
  },
  {
   "cell_type": "code",
   "execution_count": 23,
   "metadata": {},
   "outputs": [],
   "source": [
    "from sklearn.linear_model import LogisticRegression\n",
    "model = LogisticRegression()\n",
    "clf = model.fit(X, y)"
   ]
  },
  {
   "cell_type": "code",
   "execution_count": 24,
   "metadata": {},
   "outputs": [
    {
     "name": "stdout",
     "output_type": "stream",
     "text": [
      "avg misclassification: 34.00\n"
     ]
    }
   ],
   "source": [
    "percent_misclassified = 0\n",
    "for train_index, test_index in kf.split(X):\n",
    "    x_train, x_test = X[train_index], X[test_index]\n",
    "    y_train, y_test = y[train_index], y[test_index]\n",
    "    clf = AdaBoostClassifier(n_estimators=100)\n",
    "    y_pred = clf.fit(x_train, y_train).predict(x_test)\n",
    "    percent_misclassified+=100*(y_test != y_pred).sum()/float(x_test.shape[0])\n",
    "print(\"avg misclassification: %0.2f\"%float(percent_misclassified/num_splits))"
   ]
  },
  {
   "cell_type": "markdown",
   "metadata": {
    "collapsed": true
   },
   "source": [
    "# Top15 Fighters"
   ]
  },
  {
   "cell_type": "code",
   "execution_count": 61,
   "metadata": {
    "scrolled": true
   },
   "outputs": [],
   "source": [
    "df_top15 = pd.read_csv('./data/top15_results.csv', delimiter=',', header=None)\n",
    "df_top15.columns = ['red', 'blue', 'result']\n",
    "df_top15['red_first'] = df_top15['red'].str.split(' ', expand=True)[0]\n",
    "def get_last_name(x):\n",
    "    return x.split(' ')[-1]\n",
    "df_top15['red_last'] = df_top15['red'].apply(get_last_name)\n",
    "df_top15['blue_first'] = df_top15['blue'].str.split(' ', expand=True)[0]\n",
    "df_top15['blue_last'] = df_top15['blue'].apply(get_last_name)"
   ]
  },
  {
   "cell_type": "code",
   "execution_count": 62,
   "metadata": {
    "scrolled": false
   },
   "outputs": [
    {
     "data": {
      "text/html": [
       "<div>\n",
       "<table border=\"1\" class=\"dataframe\">\n",
       "  <thead>\n",
       "    <tr style=\"text-align: right;\">\n",
       "      <th></th>\n",
       "      <th>red</th>\n",
       "      <th>blue</th>\n",
       "      <th>result</th>\n",
       "      <th>red_first</th>\n",
       "      <th>red_last</th>\n",
       "      <th>blue_first</th>\n",
       "      <th>blue_last</th>\n",
       "    </tr>\n",
       "  </thead>\n",
       "  <tbody>\n",
       "    <tr>\n",
       "      <th>0</th>\n",
       "      <td>Demetrious Johnson</td>\n",
       "      <td>Wilson Reis</td>\n",
       "      <td>win</td>\n",
       "      <td>Demetrious</td>\n",
       "      <td>Johnson</td>\n",
       "      <td>Wilson</td>\n",
       "      <td>Reis</td>\n",
       "    </tr>\n",
       "    <tr>\n",
       "      <th>1</th>\n",
       "      <td>Demetrious Johnson</td>\n",
       "      <td>Tim Elliott</td>\n",
       "      <td>win</td>\n",
       "      <td>Demetrious</td>\n",
       "      <td>Johnson</td>\n",
       "      <td>Tim</td>\n",
       "      <td>Elliott</td>\n",
       "    </tr>\n",
       "    <tr>\n",
       "      <th>2</th>\n",
       "      <td>Demetrious Johnson</td>\n",
       "      <td>Henry Cejudo</td>\n",
       "      <td>win</td>\n",
       "      <td>Demetrious</td>\n",
       "      <td>Johnson</td>\n",
       "      <td>Henry</td>\n",
       "      <td>Cejudo</td>\n",
       "    </tr>\n",
       "    <tr>\n",
       "      <th>3</th>\n",
       "      <td>Demetrious Johnson</td>\n",
       "      <td>John Dodson</td>\n",
       "      <td>win</td>\n",
       "      <td>Demetrious</td>\n",
       "      <td>Johnson</td>\n",
       "      <td>John</td>\n",
       "      <td>Dodson</td>\n",
       "    </tr>\n",
       "    <tr>\n",
       "      <th>4</th>\n",
       "      <td>Demetrious Johnson</td>\n",
       "      <td>Kyoji Horiguchi</td>\n",
       "      <td>win</td>\n",
       "      <td>Demetrious</td>\n",
       "      <td>Johnson</td>\n",
       "      <td>Kyoji</td>\n",
       "      <td>Horiguchi</td>\n",
       "    </tr>\n",
       "  </tbody>\n",
       "</table>\n",
       "</div>"
      ],
      "text/plain": [
       "                  red             blue result   red_first red_last blue_first  \\\n",
       "0  Demetrious Johnson      Wilson Reis    win  Demetrious  Johnson     Wilson   \n",
       "1  Demetrious Johnson      Tim Elliott    win  Demetrious  Johnson        Tim   \n",
       "2  Demetrious Johnson     Henry Cejudo    win  Demetrious  Johnson      Henry   \n",
       "3  Demetrious Johnson      John Dodson    win  Demetrious  Johnson       John   \n",
       "4  Demetrious Johnson  Kyoji Horiguchi    win  Demetrious  Johnson      Kyoji   \n",
       "\n",
       "   blue_last  \n",
       "0       Reis  \n",
       "1    Elliott  \n",
       "2     Cejudo  \n",
       "3     Dodson  \n",
       "4  Horiguchi  "
      ]
     },
     "execution_count": 62,
     "metadata": {},
     "output_type": "execute_result"
    }
   ],
   "source": [
    "top15_list = df_top15['red'].unique()\n",
    "df_top15.head()"
   ]
  },
  {
   "cell_type": "code",
   "execution_count": 214,
   "metadata": {},
   "outputs": [
    {
     "name": "stderr",
     "output_type": "stream",
     "text": [
      "/usr/local/lib/python2.7/site-packages/ipykernel_launcher.py:12: SettingWithCopyWarning: \n",
      "A value is trying to be set on a copy of a slice from a DataFrame.\n",
      "Try using .loc[row_indexer,col_indexer] = value instead\n",
      "\n",
      "See the caveats in the documentation: http://pandas.pydata.org/pandas-docs/stable/indexing.html#indexing-view-versus-copy\n",
      "  if sys.path[0] == '':\n"
     ]
    },
    {
     "name": "stdout",
     "output_type": "stream",
     "text": [
      "Brandon Moreno\n",
      "Chan Jung\n",
      "Rafael Anjos\n",
      "Dong Kim\n",
      "David Branch\n",
      "Volkan Oezdemir\n",
      "Ovince Preux\n",
      "Cynthia Calvillo\n",
      "Germaine Randamie\n",
      "Ketlen Vieira\n"
     ]
    }
   ],
   "source": [
    "'''\n",
    "To generate deltas, loop through the top fighters one by one and concatenate deltas results\n",
    "'''\n",
    "frames = []\n",
    "for fighter in top15_list:\n",
    "    try:\n",
    "        df_fighter = df_top15[df_top15['red'] == fighter]\n",
    "        first = df_fighter['red_first'].values[0]\n",
    "        last = df_fighter['red_last'].values[0]\n",
    "        fighter_stats = df_5w[(df_5w['first'] == first) & (df_5w['last'] == last)]\n",
    "        fighter_stats.isnull().values.any()\n",
    "        fighter_stats['result'] = 'n/a'\n",
    "        opponent_stats = pd.merge(df_5w, df_fighter, left_on=['first', 'last'], right_on=['blue_first', 'blue_last'], how='inner')\n",
    "        fighter_deltas = generate_delta(fighter_stats, opponent_stats)\n",
    "        frames.append(fighter_deltas)\n",
    "    except:\n",
    "        print first, last\n",
    "#         display(fighter_stats)\n",
    "#         display(opponent_stats)\n",
    "    \n",
    "# bisping_delta.head()\n",
    "# fighter_deltas.head()"
   ]
  },
  {
   "cell_type": "code",
   "execution_count": 218,
   "metadata": {},
   "outputs": [],
   "source": [
    "df_deltas_top15 = pd.concat(frames)\n",
    "df_deltas_top15.replace([np.inf, -np.inf], np.nan, inplace=True)\n",
    "#Need to figure out why there are NAN results\n",
    "df_deltas_top15.dropna(inplace=True)"
   ]
  },
  {
   "cell_type": "code",
   "execution_count": 219,
   "metadata": {},
   "outputs": [],
   "source": [
    "train_predictors = df_deltas_top15.iloc[:,:-1]\n",
    "train_response = df_deltas_top15['result'].dropna()\n",
    "X = train_predictors.as_matrix()\n",
    "y = train_response.as_matrix()"
   ]
  },
  {
   "cell_type": "code",
   "execution_count": 220,
   "metadata": {
    "scrolled": true
   },
   "outputs": [
    {
     "name": "stdout",
     "output_type": "stream",
     "text": [
      "(1525, 12)\n",
      "(1525,)\n"
     ]
    }
   ],
   "source": [
    "print X.shape\n",
    "print y.shape"
   ]
  },
  {
   "cell_type": "code",
   "execution_count": 263,
   "metadata": {},
   "outputs": [
    {
     "name": "stdout",
     "output_type": "stream",
     "text": [
      "avg misclassification: 30.89\n"
     ]
    }
   ],
   "source": [
    "percent_misclassified = 0\n",
    "# train_predictors_norm = scale(train_predictors_norm)\n",
    "X_norm = scale(X)\n",
    "for train_index, test_index in kf.split(X_norm):\n",
    "    x_train, x_test = X_norm[train_index], X_norm[test_index]\n",
    "    y_train, y_test = y[train_index], y[test_index]\n",
    "    clf = DummyClassifier(strategy='most_frequent',random_state=0)\n",
    "    y_pred = clf.fit(x_train, y_train).predict(x_test)\n",
    "    percent_misclassified+=100*(y_test != y_pred).sum()/float(x_test.shape[0])\n",
    "print(\"avg misclassification: %0.2f\"%float(percent_misclassified/num_splits))"
   ]
  },
  {
   "cell_type": "code",
   "execution_count": 221,
   "metadata": {},
   "outputs": [
    {
     "name": "stdout",
     "output_type": "stream",
     "text": [
      "avg misclassification: 30.10\n"
     ]
    }
   ],
   "source": [
    "percent_misclassified = 0\n",
    "# train_predictors_norm = scale(train_predictors_norm)\n",
    "X_norm = scale(X)\n",
    "for train_index, test_index in kf.split(X_norm):\n",
    "    x_train, x_test = X_norm[train_index], X_norm[test_index]\n",
    "    y_train, y_test = y[train_index], y[test_index]\n",
    "    clf = AdaBoostClassifier(n_estimators=100)\n",
    "    y_pred = clf.fit(x_train, y_train).predict(x_test)\n",
    "    percent_misclassified+=100*(y_test != y_pred).sum()/float(x_test.shape[0])\n",
    "print(\"avg misclassification: %0.2f\"%float(percent_misclassified/num_splits))"
   ]
  },
  {
   "cell_type": "code",
   "execution_count": 264,
   "metadata": {},
   "outputs": [
    {
     "name": "stdout",
     "output_type": "stream",
     "text": [
      "avg misclassification: 27.67\n"
     ]
    }
   ],
   "source": [
    "percent_misclassified = 0\n",
    "for train_index, test_index in kf.split(X):\n",
    "    x_train, x_test = X[train_index], X[test_index]\n",
    "    y_train, y_test = y[train_index], y[test_index]\n",
    "    clf = linear_model.LogisticRegression()\n",
    "    y_pred = clf.fit(x_train, y_train).predict(x_test)\n",
    "    percent_misclassified+=100*(y_test != y_pred).sum()/float(x_test.shape[0])\n",
    "print(\"avg misclassification: %0.2f\"%float(percent_misclassified/num_splits))"
   ]
  },
  {
   "cell_type": "code",
   "execution_count": 223,
   "metadata": {},
   "outputs": [
    {
     "name": "stdout",
     "output_type": "stream",
     "text": [
      "avg misclassification: 30.82\n"
     ]
    }
   ],
   "source": [
    "percent_misclassified = 0\n",
    "\n",
    "for train_index, test_index in kf.split(X):\n",
    "    x_train, x_test = X[train_index], X[test_index]\n",
    "    y_train, y_test = y[train_index], y[test_index]\n",
    "    neigh = KNeighborsClassifier(n_neighbors=151, n_jobs=-1)\n",
    "    y_pred = neigh.fit(x_train, y_train).predict(x_test)\n",
    "    percent_misclassified+=100*(y_test != y_pred).sum()/float(x_test.shape[0])\n",
    "print(\"avg misclassification: %0.2f\"%float(percent_misclassified/num_splits))"
   ]
  },
  {
   "cell_type": "code",
   "execution_count": 265,
   "metadata": {},
   "outputs": [
    {
     "name": "stdout",
     "output_type": "stream",
     "text": [
      "avg misclassification: 27.74\n"
     ]
    }
   ],
   "source": [
    "percent_misclassified = 0\n",
    "for train_index, test_index in kf.split(X):\n",
    "    x_train, x_test = X[train_index], X[test_index]\n",
    "    y_train, y_test = y[train_index], y[test_index]\n",
    "    clf = RandomForestClassifier(n_jobs=-1, max_features=5, n_estimators=500)\n",
    "    y_pred = clf.fit(x_train, y_train).predict(x_test)\n",
    "    percent_misclassified+=100*(y_test != y_pred).sum()/float(x_test.shape[0])\n",
    "#     print(\"mislabeled out of %d obs : %0.2f\"% (x_test.shape[0], 100*(y_test != y_pred).sum()/float(x_test.shape[0])))\n",
    "print(\"avg misclassification: %0.2f\"%float(percent_misclassified/num_splits))"
   ]
  },
  {
   "cell_type": "code",
   "execution_count": 175,
   "metadata": {
    "scrolled": true
   },
   "outputs": [
    {
     "data": {
      "image/png": "[encoded data removed]",
      "text/plain": [
       "<matplotlib.figure.Figure at 0x1195ca450>"
      ]
     },
     "metadata": {},
     "output_type": "display_data"
    }
   ],
   "source": [
    "_ = df_deltas_top15.hist()"
   ]
  },
  {
   "cell_type": "code",
   "execution_count": 233,
   "metadata": {},
   "outputs": [
    {
     "data": {
      "text/html": [
       "<div>\n",
       "<table border=\"1\" class=\"dataframe\">\n",
       "  <thead>\n",
       "    <tr style=\"text-align: right;\">\n",
       "      <th></th>\n",
       "      <th>first</th>\n",
       "      <th>last</th>\n",
       "      <th>nickname</th>\n",
       "      <th>height</th>\n",
       "      <th>weight</th>\n",
       "      <th>reach</th>\n",
       "      <th>stance</th>\n",
       "      <th>w</th>\n",
       "      <th>l</th>\n",
       "      <th>d</th>\n",
       "      <th>belt</th>\n",
       "      <th>SLpM</th>\n",
       "      <th>Str. Acc.</th>\n",
       "      <th>SApM</th>\n",
       "      <th>Str. Def</th>\n",
       "      <th>TD Avg</th>\n",
       "      <th>TD Acc.</th>\n",
       "      <th>TD Def.</th>\n",
       "      <th>Sub. Avg.</th>\n",
       "    </tr>\n",
       "  </thead>\n",
       "  <tbody>\n",
       "    <tr>\n",
       "      <th>2416</th>\n",
       "      <td>Georges</td>\n",
       "      <td>St-Pierre</td>\n",
       "      <td>Rush</td>\n",
       "      <td>5' 11\"</td>\n",
       "      <td>170 lbs.</td>\n",
       "      <td>76.0\"</td>\n",
       "      <td>Orthodox</td>\n",
       "      <td>25</td>\n",
       "      <td>2</td>\n",
       "      <td>0</td>\n",
       "      <td>n/a</td>\n",
       "      <td>3.77</td>\n",
       "      <td>53%</td>\n",
       "      <td>1.38</td>\n",
       "      <td>72%</td>\n",
       "      <td>4.2</td>\n",
       "      <td>74%</td>\n",
       "      <td>83%</td>\n",
       "      <td>1.1</td>\n",
       "    </tr>\n",
       "  </tbody>\n",
       "</table>\n",
       "</div>"
      ],
      "text/plain": [
       "        first       last nickname  height    weight  reach    stance   w  l  \\\n",
       "2416  Georges  St-Pierre     Rush  5' 11\"  170 lbs.  76.0\"  Orthodox  25  2   \n",
       "\n",
       "      d belt  SLpM Str. Acc.  SApM Str. Def  TD Avg TD Acc. TD Def.  Sub. Avg.  \n",
       "2416  0  n/a  3.77       53%  1.38      72%     4.2     74%     83%        1.1  "
      ]
     },
     "execution_count": 233,
     "metadata": {},
     "output_type": "execute_result"
    }
   ],
   "source": [
    "df_5w[(df_5w['first'] == 'Georges') ]"
   ]
  },
  {
   "cell_type": "code",
   "execution_count": 231,
   "metadata": {},
   "outputs": [],
   "source": [
    "model = clf.fit(X, y)"
   ]
  },
  {
   "cell_type": "code",
   "execution_count": 236,
   "metadata": {},
   "outputs": [
    {
     "name": "stderr",
     "output_type": "stream",
     "text": [
      "/usr/local/lib/python2.7/site-packages/ipykernel_launcher.py:4: SettingWithCopyWarning: \n",
      "A value is trying to be set on a copy of a slice from a DataFrame.\n",
      "Try using .loc[row_indexer,col_indexer] = value instead\n",
      "\n",
      "See the caveats in the documentation: http://pandas.pydata.org/pandas-docs/stable/indexing.html#indexing-view-versus-copy\n",
      "  after removing the cwd from sys.path.\n",
      "/usr/local/lib/python2.7/site-packages/ipykernel_launcher.py:5: SettingWithCopyWarning: \n",
      "A value is trying to be set on a copy of a slice from a DataFrame.\n",
      "Try using .loc[row_indexer,col_indexer] = value instead\n",
      "\n",
      "See the caveats in the documentation: http://pandas.pydata.org/pandas-docs/stable/indexing.html#indexing-view-versus-copy\n",
      "  \"\"\"\n"
     ]
    },
    {
     "data": {
      "text/plain": [
       "array([ 0.])"
      ]
     },
     "execution_count": 236,
     "metadata": {},
     "output_type": "execute_result"
    }
   ],
   "source": [
    "#predict Conor vs Nate\n",
    "conor_stats = df_5w[(df_5w['first'] == 'TJ') & (df_5w['last'] == 'Dillashaw')]\n",
    "nate_stats = df_5w[(df_5w['first'] == 'Dominick') & (df_5w['last'] == 'Cruz')]\n",
    "conor_stats['result'] = 'n/a'\n",
    "nate_stats['result'] = 'n/a'\n",
    "try_delta = generate_delta(conor_stats, nate_stats).iloc[:,:-1].as_matrix()\n",
    "model.predict(try_delta)"
   ]
  },
  {
   "cell_type": "code",
   "execution_count": 251,
   "metadata": {},
   "outputs": [
    {
     "data": {
      "text/plain": [
       "0.57307476484815911"
      ]
     },
     "execution_count": 251,
     "metadata": {},
     "output_type": "execute_result"
    }
   ],
   "source": [
    "ones_ratio = sum(y)/len(y)\n",
    "zeros_ratio = 1-ones_ratio\n",
    "(ones_ratio*ones_ratio)+(zeros_ratio*zeros_ratio)"
   ]
  },
  {
   "cell_type": "code",
   "execution_count": null,
   "metadata": {},
   "outputs": [],
   "source": []
  },
  {
   "cell_type": "code",
   "execution_count": null,
   "metadata": {},
   "outputs": [],
   "source": []
  },
  {
   "cell_type": "code",
   "execution_count": null,
   "metadata": {},
   "outputs": [],
   "source": []
  },
  {
   "cell_type": "code",
   "execution_count": null,
   "metadata": {},
   "outputs": [],
   "source": []
  },
  {
   "cell_type": "code",
   "execution_count": null,
   "metadata": {},
   "outputs": [],
   "source": []
  },
  {
   "cell_type": "code",
   "execution_count": null,
   "metadata": {},
   "outputs": [],
   "source": []
  }
 ],
 "metadata": {
  "kernelspec": {
   "display_name": "Python 2",
   "language": "python",
   "name": "python2"
  },
  "language_info": {
   "codemirror_mode": {
    "name": "ipython",
    "version": 2
   },
   "file_extension": ".py",
   "mimetype": "text/x-python",
   "name": "python",
   "nbconvert_exporter": "python",
   "pygments_lexer": "ipython2",
   "version": "2.7.12"
  }
 },
 "nbformat": 4,
 "nbformat_minor": 1
}
